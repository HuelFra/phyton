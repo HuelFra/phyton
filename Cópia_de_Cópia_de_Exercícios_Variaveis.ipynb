{
  "nbformat": 4,
  "nbformat_minor": 0,
  "metadata": {
    "colab": {
      "provenance": [],
      "authorship_tag": "ABX9TyNI2Qyg/yl7G0qb4uezd1zs",
      "include_colab_link": true
    },
    "kernelspec": {
      "name": "python3",
      "display_name": "Python 3"
    },
    "language_info": {
      "name": "python"
    }
  },
  "cells": [
    {
      "cell_type": "markdown",
      "metadata": {
        "id": "view-in-github",
        "colab_type": "text"
      },
      "source": [
        "<a href=\"https://colab.research.google.com/github/HuelFra/phyton/blob/main/C%C3%B3pia_de_C%C3%B3pia_de_Exerc%C3%ADcios_Variaveis.ipynb\" target=\"_parent\"><img src=\"https://colab.research.google.com/assets/colab-badge.svg\" alt=\"Open In Colab\"/></a>"
      ]
    },
    {
      "cell_type": "code",
      "execution_count": null,
      "metadata": {
        "colab": {
          "base_uri": "https://localhost:8080/"
        },
        "id": "w1QtHrMr9mDE",
        "outputId": "c057d5bb-ae30-4c79-9fb1-eaf6e1e6c827"
      },
      "outputs": [
        {
          "output_type": "stream",
          "name": "stdout",
          "text": [
            "--------------- Resultado do Exercício 1 - Parte 1 ---------------------------\n",
            "Maria Antônia Souza, seja bem vinda a DNC\n",
            "-----------------------------------------------------------------------------------------------------------------\n",
            "\n",
            "--------------- Resultado do Exercício 1 - Parte 2 ---------------------------\n",
            "Qual é o seu primeiro nome?Maria\n",
            "Qual é o seu nome do meio?da\n",
            "Qual é o seu último nome?Jóia\n",
            "Maria da Jóia, seja bem vinda a DNC\n",
            "-----------------------------------------------------------------------------------------------------------------\n",
            "--------------- Resultado do Exercício 2 - Parte 1 ---------------------------\n",
            "O nome do Cliente é: Maurício Pedreira\n",
            "A idade do Cliente é: 52\n",
            "-----------------------------------------------------------------------------------------------------------------\n",
            "\n",
            "--------------- Resultado do Exercício 2 - Parte 2 ---------------------------\n",
            "Qual é o seu nome completo?Jane Agostine Costa\n",
            "Qual é a sua idade?33\n",
            "O nome do Cliente é: Jane Agostine Costa\n",
            "A idade do Cliente é: 33\n",
            "-----------------------------------------------------------------------------------------------------------------\n",
            "\n"
          ]
        }
      ],
      "source": [
        "#------------------------------------------------------Exercício 1 - Parte 1 -----------------------------------------------------------------------------------\n",
        "# 1) Crie 3 variáveis:nomePrimeiro, nomeMeio, nomeUltimo.\n",
        "# 2) Atribua um valor para cada uma delas\n",
        "# 3) Imprima a seguinte frase para o usuário: \"<nomePrimeiro nomeMeio nomeUltimo>, seja bem vindo a DNC\"\n",
        "# ****** Não precisa usar input ********\n",
        "print('--------------- Resultado do Exercício 1 - Parte 1 ---------------------------')\n",
        "nomePrimeiro = 'Maria'\n",
        "nomeMeio = 'Antônia'\n",
        "nomeUltimo = 'Souza'\n",
        "print(nomePrimeiro, nomeMeio,nomeUltimo +', seja bem vinda a DNC')\n",
        "print('-----------------------------------------------------------------------------------------------------------------')\n",
        "# ******************************************************************************************************************************************************\n",
        "print()\n",
        "#------------------------------------------------------Exercício 1 - Parte 2 -----------------------------------------------------------------------------------\n",
        "# 1) Agora peça ao usuário que ele digite as 3 variáveis antes de mostrar a mesma frade da parte 1\n",
        "print('--------------- Resultado do Exercício 1 - Parte 2 ---------------------------')\n",
        "nomePrimeiroUsuario = input('Qual é o seu primeiro nome?')\n",
        "nomeMeioUsuario = input('Qual é o seu nome do meio?')\n",
        "nomeUltimoUsuario = input('Qual é o seu último nome?')\n",
        "print(nomePrimeiroUsuario, nomeMeioUsuario,nomeUltimoUsuario +', seja bem vinda a DNC')\n",
        "print('-----------------------------------------------------------------------------------------------------------------')\n",
        "# ******************************************************************************************************************************************************\n",
        "#------------------------------------------------------Exercício 2 - Parte 1 -----------------------------------------------------------------------------------\n",
        "# 1) Armazene em uma variável o nome do cliente, a variável precisa se chamar cliente_nome e o nome do cliente você pode usar sua criatividade.\n",
        "# 2) Crie uma variável que armazene a idade do cliente, a variável precisa se chamar cliente_idade.\n",
        "# 3) Exiba na tela as 2 variáveis, e apenas uma variável por linha. Ex: \"O nome do Cliente é: Nathan Pereira\"\n",
        "print('--------------- Resultado do Exercício 2 - Parte 1 ---------------------------')\n",
        "cliente_nome = 'Maurício Pedreira'\n",
        "cliente_idade = '52'\n",
        "print('O nome do Cliente é: ' + cliente_nome)\n",
        "print('A idade do Cliente é: ' + cliente_idade)\n",
        "print('-----------------------------------------------------------------------------------------------------------------')\n",
        "# ******************************************************************************************************************************************************\n",
        "print()\n",
        "# ******************************************************************************************************************************************************\n",
        "#------------------------------------------------------Exercício 2 - Parte 2 -----------------------------------------------------------------------------------\n",
        "# 1) Agora o cliente irá colocar as informações. Crie uma variável que receba como input o nome e a idade do cliente\n",
        "# 2) Para ajudar o usuário exiba, essas variáveis na tela.\n",
        "print('--------------- Resultado do Exercício 2 - Parte 2 ---------------------------')\n",
        "cliente_nome = input('Qual é o seu nome completo? ')\n",
        "cliente_idade = input('Qual é a sua idade? ')\n",
        "print('O nome do Cliente é: ' + cliente_nome)\n",
        "print('A idade do Cliente é: ' + cliente_idade)\n",
        "print('-----------------------------------------------------------------------------------------------------------------')\n",
        "# ******************************************************************************************************************************************************\n",
        "print()"
      ]
    }
  ]
}