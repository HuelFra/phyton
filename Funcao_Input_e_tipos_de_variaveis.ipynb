{
  "nbformat": 4,
  "nbformat_minor": 0,
  "metadata": {
    "colab": {
      "provenance": [],
      "authorship_tag": "ABX9TyOShl9OFnVJjERl729f/e/f",
      "include_colab_link": true
    },
    "kernelspec": {
      "name": "python3",
      "display_name": "Python 3"
    },
    "language_info": {
      "name": "python"
    }
  },
  "cells": [
    {
      "cell_type": "markdown",
      "metadata": {
        "id": "view-in-github",
        "colab_type": "text"
      },
      "source": [
        "<a href=\"https://colab.research.google.com/github/HuelFra/phyton/blob/main/Funcao_Input_e_tipos_de_variaveis.ipynb\" target=\"_parent\"><img src=\"https://colab.research.google.com/assets/colab-badge.svg\" alt=\"Open In Colab\"/></a>"
      ]
    },
    {
      "cell_type": "code",
      "execution_count": 18,
      "metadata": {
        "colab": {
          "base_uri": "https://localhost:8080/"
        },
        "id": "2-9nO4ZG08pc",
        "outputId": "e3e1d287-fffd-4ba0-8461-114c8e5a459a"
      },
      "outputs": [
        {
          "output_type": "stream",
          "name": "stdout",
          "text": [
            "Qual o lanche que você quer? 3\n",
            "Você pediu um:  3\n",
            "-----------------------------------------------------------------------------------------------------------------\n",
            "O valor da variável Brasil é do tipo:  <class 'str'>\n",
            "-----------------------------------------------------------------------------------------------------------------\n",
            "O valor da variável 2.75 é do tipo:  <class 'float'>\n",
            "-----------------------------------------------------------------------------------------------------------------\n",
            "O valor da variável 5 é do tipo:  <class 'int'>\n",
            "-----------------------------------------------------------------------------------------------------------------\n",
            "O valor da variável 5 é:  <class 'int'>  e a expressão Jesus Cristo é o Senhor é do tipo:  <class 'str'>\n",
            "-----------------------------------------------------------------------------------------------------------------\n",
            "Por favor, digite um número: 8\n",
            "-----------------------------------------------------------------------------------------------------------------\n",
            "O tipo de variável pagamentoCartao é do tipo:  <class 'bool'>\n",
            "O tipo de variável pagamentoDinheiro é do tipo:  <class 'bool'>\n",
            "-----------------------------------------------------------------------------------------------------------------\n"
          ]
        }
      ],
      "source": [
        "# ------------------------------------------------------------- Uso da Função Input -------------------------------------------------------------------\n",
        "# Para melhorarmos a interface com o usuário, podemos pedir para que ele insira os valores de cada variável usando o input()\n",
        "# Para usarmos, precisamos atribuir a resposta do usuário a uma variável e também colocar uma frase que indique para o usuário o que ele deve digitar.\n",
        "# ******************************************************************************************************************************************************\n",
        "# Peça para o usuário falar qual lanche ele quer pedir:\n",
        "lancheNome = input ('Qual o lanche que você quer? ')\n",
        "print('Você pediu um: ', lancheNome)\n",
        "print('-----------------------------------------------------------------------------------------------------------------')\n",
        "# ******************************************************************************************************************************************************\n",
        "# ------------------------------------------------------------- Uso dos Tipos de Variáveis -------------------------------------------------------------\n",
        "# No input e em outros casos, podemos nos deparar com Tipos de Dados indesejados. Para isso podemos validar utilizando a função: type()\n",
        "# ******************************************************************************************************************************************************\n",
        "# Use o type em uma String\n",
        "variavelTipoString = type('Brasil')\n",
        "print('O valor da variável Brasil é do tipo: ',variavelTipoString)\n",
        "print('-----------------------------------------------------------------------------------------------------------------')\n",
        "# ******************************************************************************************************************************************************\n",
        "# Use o type em um Float\n",
        "variavelTipoFloat = type(2.75)\n",
        "print('O valor da variável 2.75 é do tipo: ', variavelTipoFloat)\n",
        "print('-----------------------------------------------------------------------------------------------------------------')\n",
        "# ******************************************************************************************************************************************************\n",
        "# Use o type em um Int\n",
        "variavelTipoInt = type(5)\n",
        "print('O valor da variável 5 é do tipo: ', variavelTipoInt)\n",
        "print('-----------------------------------------------------------------------------------------------------------------')\n",
        "# ******************************************************************************************************************************************************\n",
        "# Use o type em 2 variáveis seguidas:\n",
        "varnumerocinco = type(5)\n",
        "varverdadeira = type('Jesus Cristo é o Senhor')\n",
        "print('O valor da variável 5 é: ', varnumerocinco, ' e a expressão Jesus Cristo é o Senhor é do tipo: ',varverdadeira)\n",
        "print('-----------------------------------------------------------------------------------------------------------------')\n",
        "# ******************************************************************************************************************************************************\n",
        "# Usuário irpa digitar um número e identificaremos o tipo\n",
        "numero = input('Por favor, digite um número: ')\n",
        "type(numero)\n",
        "# O tipo da variável numero é string porque o Python entende que sempre que o usuário entra com um valor, ele entende como uma string.\n",
        "print('-----------------------------------------------------------------------------------------------------------------')\n",
        "# ******************************************************************************************************************************************************\n",
        "# ------------------------------------------------------------- Dados Booleanos -------------------------------------------------------------\n",
        "# É uma variável que sempre terá valor de Verdadeiro ou Falso\n",
        "# ******************************************************************************************************************************************************\n",
        "# Crie 2 variáveis: pagamentoCartao e pagamentoDinheiro,\n",
        "# atribua valores Booleanos a ela e verifique o tipo da variável\n",
        "pagamentoCartao = True\n",
        "pagamentoDinheiro = False\n",
        "print('O tipo de variável pagamentoCartao é do tipo: ', type(pagamentoCartao))\n",
        "print('O tipo de variável pagamentoDinheiro é do tipo: ', type(pagamentoDinheiro))\n",
        "print('-----------------------------------------------------------------------------------------------------------------')\n",
        "# ******************************************************************************************************************************************************\n",
        "\n",
        "\n"
      ]
    }
  ]
}