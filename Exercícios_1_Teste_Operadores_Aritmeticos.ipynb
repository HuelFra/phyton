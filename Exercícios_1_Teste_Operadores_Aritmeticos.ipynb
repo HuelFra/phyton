{
  "nbformat": 4,
  "nbformat_minor": 0,
  "metadata": {
    "colab": {
      "provenance": [],
      "authorship_tag": "ABX9TyNkHImafqLAZbElksLAD6m8",
      "include_colab_link": true
    },
    "kernelspec": {
      "name": "python3",
      "display_name": "Python 3"
    },
    "language_info": {
      "name": "python"
    }
  },
  "cells": [
    {
      "cell_type": "markdown",
      "metadata": {
        "id": "view-in-github",
        "colab_type": "text"
      },
      "source": [
        "<a href=\"https://colab.research.google.com/github/HuelFra/phyton/blob/main/Exerc%C3%ADcios_1_Teste_Operadores_Aritmeticos.ipynb\" target=\"_parent\"><img src=\"https://colab.research.google.com/assets/colab-badge.svg\" alt=\"Open In Colab\"/></a>"
      ]
    },
    {
      "cell_type": "code",
      "execution_count": 23,
      "metadata": {
        "colab": {
          "base_uri": "https://localhost:8080/"
        },
        "id": "2TpKBMSkiAoc",
        "outputId": "eb1004ca-5215-423f-e7eb-3f1af55c89fa"
      },
      "outputs": [
        {
          "output_type": "stream",
          "name": "stdout",
          "text": [
            "################################################## Exercício 1 - Teste os Operadores Aritméticos ##################################################\n",
            "\n",
            "1) Neste exercício iremos realizar as operações de Soma, Subtração, Multiplicação, Divisão, Exponenciação, Divisão inteira e Resto da Divisão\n",
            "com três números inteiros. Esses números serão informados pelo usuário\n",
            "------------------------------------------------------------------------------------------------------------------------------------------------------\n",
            "\n",
            "Informe  o primeiro número:1\n",
            "Informe o segundo número:2\n",
            "Informe o terceiro número:1\n",
            "----------------------------------------------------------------------------------------------------\n",
            " A soma de A + B + C é: 4\n",
            " A soma de (A + B) + C é: 4\n",
            " A soma de A + (B + C) é: 4\n",
            " A soma de (A + C) + B é: 4\n",
            "----------------------------------------------------------------------------------------------------\n",
            " A subtração de A - B - C é: -2\n",
            " A subtração de (A - B) - C é: -2\n",
            " A subtração de A - (B - C) é: 0\n",
            " A subtração de (A - C) - B é: -2\n",
            "----------------------------------------------------------------------------------------------------\n",
            " A multiplicação de A * B * C é: 2\n",
            " A multiplicação de (A * B) * C é: 2\n",
            " A multiplicação de A * (B * C) é: 2\n",
            " A multiplicação de (A * C) * B é: 2\n",
            "----------------------------------------------------------------------------------------------------\n",
            " A divisão de A / B / C é: 0.5\n",
            " A divisão de (A / B) / C é: 0.5\n",
            " A divisão de A / (B / C) é: 0.5\n",
            " A divisão de (A / C) / B é: 0.5\n",
            "----------------------------------------------------------------------------------------------------\n",
            " A exponenciação de A ** B ** C é: 1\n",
            " A exponenciação de (A ** B) ** C é: 1\n",
            " A exponenciação de A ** (B ** C) é: 1\n",
            " A exponenciação de (A ** C) ** B é: 1\n",
            "----------------------------------------------------------------------------------------------------\n",
            " A divisão inteira de A // B // C é: 0\n",
            " A divisão inteira de (A // B) // C é: 0\n",
            " A divisão inteira de A // (B // C) é: 0\n",
            " A divisão inteira de (A // C) // B é: 0\n",
            "----------------------------------------------------------------------------------------------------\n",
            " O resto da divisão de A % B % C é: 0\n",
            " O resto da divisão de (A % B) % C é: 0\n",
            " O resto da divisão de (A % C) % B é: 0\n",
            "----------------------------------------------------------------------------------------------------\n"
          ]
        }
      ],
      "source": [
        "print('#'*50 + ' Exercício 1 - Teste os Operadores Aritméticos ' + '#'*50)\n",
        "print()\n",
        "print('1) Neste exercício iremos realizar as operações de Soma, Subtração, Multiplicação, Divisão, Exponenciação, Divisão inteira e Resto da Divisão')\n",
        "print('com três números inteiros. Esses números serão informados pelo usuário')\n",
        "print('-'*150)\n",
        "print()\n",
        "A = input ('Informe  o primeiro número:')\n",
        "B = input ('Informe o segundo número:')\n",
        "C = input ('Informe o terceiro número:')\n",
        "print('-'*100)\n",
        "A = int(A)\n",
        "B = int(B)\n",
        "C = int(C)\n",
        "\n",
        "print(' A soma de A + B + C é:',A + B + C)\n",
        "print(' A soma de (A + B) + C é:',(A + B) + C)\n",
        "print(' A soma de A + (B + C) é:',A + (B + C))\n",
        "print(' A soma de (A + C) + B é:',(A + C) + B)\n",
        "print('-'*100)\n",
        "\n",
        "print(' A subtração de A - B - C é:',A - B - C)\n",
        "print(' A subtração de (A - B) - C é:',(A - B) - C)\n",
        "print(' A subtração de A - (B - C) é:',A - (B - C))\n",
        "print(' A subtração de (A - C) - B é:',(A - C) - B)\n",
        "print('-'*100)\n",
        "\n",
        "print(' A multiplicação de A * B * C é:',A * B * C)\n",
        "print(' A multiplicação de (A * B) * C é:',(A * B) * C)\n",
        "print(' A multiplicação de A * (B * C) é:',A * (B * C))\n",
        "print(' A multiplicação de (A * C) * B é:',(A * C) * B)\n",
        "print('-'*100)\n",
        "\n",
        "print(' A divisão de A / B / C é:',A / B / C)\n",
        "print(' A divisão de (A / B) / C é:',(A / B) / C)\n",
        "print(' A divisão de A / (B / C) é:',A / (B / C))\n",
        "print(' A divisão de (A / C) / B é:',(A / C) / B)\n",
        "print('-'*100)\n",
        "\n",
        "print(' A exponenciação de A ** B ** C é:',A ** B ** C)\n",
        "print(' A exponenciação de (A ** B) ** C é:',(A ** B) ** C)\n",
        "print(' A exponenciação de A ** (B ** C) é:',A ** (B ** C))\n",
        "print(' A exponenciação de (A ** C) ** B é:',(A ** C) ** B)\n",
        "print('-'*100)\n",
        "\n",
        "print(' A divisão inteira de A // B // C é:',A // B // C)\n",
        "print(' A divisão inteira de (A // B) // C é:',(A // B) // C)\n",
        "print(' A divisão inteira de A // (B // C) é:',A // (B // C))\n",
        "print(' A divisão inteira de (A // C) // B é:',(A // C) // B)\n",
        "print('-'*100)\n",
        "\n",
        "print(' O resto da divisão de A % B % C é:',A % B % C)\n",
        "print(' O resto da divisão de (A % B) % C é:',(A % B) % C)\n",
        "# print(' O resto da divisão de A % (B % C) é:',A % (B % C)) --> Nesse caso dará erro de divisão por 0, dependendo dos números informados\n",
        "print(' O resto da divisão de (A % C) % B é:',(A % C) % B)\n",
        "print('-'*100)\n",
        "\n",
        "\n",
        "\n",
        "\n"
      ]
    }
  ]
}