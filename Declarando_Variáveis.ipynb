{
  "nbformat": 4,
  "nbformat_minor": 0,
  "metadata": {
    "colab": {
      "provenance": [],
      "authorship_tag": "ABX9TyO1qu9VO3BvkOhFABIKfeoB",
      "include_colab_link": true
    },
    "kernelspec": {
      "name": "python3",
      "display_name": "Python 3"
    },
    "language_info": {
      "name": "python"
    }
  },
  "cells": [
    {
      "cell_type": "markdown",
      "metadata": {
        "id": "view-in-github",
        "colab_type": "text"
      },
      "source": [
        "<a href=\"https://colab.research.google.com/github/HuelFra/phyton/blob/main/Declarando_Vari%C3%A1veis.ipynb\" target=\"_parent\"><img src=\"https://colab.research.google.com/assets/colab-badge.svg\" alt=\"Open In Colab\"/></a>"
      ]
    },
    {
      "cell_type": "code",
      "execution_count": 15,
      "metadata": {
        "colab": {
          "base_uri": "https://localhost:8080/"
        },
        "id": "HkLdiEdApsJ5",
        "outputId": "6c74259d-1f33-4ec5-aaae-9b9d93b42f6c"
      },
      "outputs": [
        {
          "output_type": "stream",
          "name": "stdout",
          "text": [
            "\n",
            "\n",
            "O valor do Lanche é:  10.9\n",
            "O valor da Batata frita é:  5.9\n",
            "O valor do Refrigerante é:  3.0\n",
            "--------------------------------------------------------------------------------------------------\n",
            "O valor total do pedido de um Lanche e uma porção de Batata Frita é:  16.8\n",
            "--------------------------------------------------------------------------------------------------\n",
            "O valor total do pedido de um Lanche e um Refrigerante é:  13.9\n",
            "--------------------------------------------------------------------------------------------------\n",
            "O valor total do pedido é:  19.8\n",
            "-----------------------------------------------------------------------------------------------------------------------------------------------------------------------------------------------------------\n",
            "Você pediu um lanche de R$  10.9  e uma porção de Batata Frita, no valor de: R$  5.9 totalizando o valor de R$  16.8  e a forma de pagamento foi: cartão\n",
            "------------------------------------------------------------------------------------------------------------------------------------------------------------------------------------------------------------\n"
          ]
        }
      ],
      "source": [
        "# Utilizamos variáveis para armazenar valores (sejam eles do tipo texto ou numérico) para que possamos utilizar várias vezes durante o mesmo programa.\n",
        "# Modo de declarar: nomedavariavel = valor_da_variavel\n",
        "# Exemplos:\n",
        "lanche = 'x-burguer' # a variável lanche recebe o valor da string x-burguer\n",
        "preco = 10.9\n",
        "qtd = 2\n",
        "# Como regra uma variável não pode começar com número ou caractere especial, palavras reservadas\n",
        "print()\n",
        "\n",
        "# ---------------------------------------- Boas Práticas ----------------------------------------------\n",
        "# O nome da variável deve ser claro para qualquer programador que ler seu programa:\n",
        "# => Não use: valor; Use: lanchePreco\n",
        "# ******************************************************************************************************\n",
        "# => Não use caracter especial nos nomes das variáveis:\n",
        "# => Não use: preço; Use: preco\n",
        "# ******************************************************************************************************\n",
        "# => O Python diferencia letras minusculas e maiusculas no nome das variáveis, então cuidado:\n",
        "# => lanche != Lanche != LANCHE (lanche é diferente de Lanche que é diferente de LANCHE)\n",
        "# ******************************************************************************************************\n",
        "# => Use as variáveis com letra minuscula e separe as palavras por letra maiuscula ou underline '_'\n",
        "# => lanchePreco ou lanche_Preco\n",
        "# ******************************************************************************************************\n",
        "# => Em variáveis com nomes grandes, primeiro coloque o Objeto para depois a característica\n",
        "# => lanchePreco => pois Preço é uma característica (atribuito do lanche)\n",
        "# ******************************************************************************************************\n",
        "print()\n",
        "# Vamos fazer algumas contas\n",
        "# ------------------------------------------------------------------------------------------------------\n",
        "# Declarando as variáveis (atribuindo valores):\n",
        "lanchePreco = 10.90\n",
        "batatafritaPreco = 5.90\n",
        "refrigerantePreco = 3.00\n",
        "print('O valor do Lanche é: ',lanchePreco)\n",
        "print('O valor da Batata frita é: ', batatafritaPreco)\n",
        "print('O valor do Refrigerante é: ', refrigerantePreco)\n",
        "print('--------------------------------------------------------------------------------------------------')\n",
        "# ------------------------------------------------------------------------------------------------------\n",
        "# Quanto custa pedir uma Lanche e uma Batata?\n",
        "print('O valor total do pedido de um Lanche e uma porção de Batata Frita é: ', lanchePreco + batatafritaPreco)\n",
        "print('--------------------------------------------------------------------------------------------------')\n",
        "# ------------------------------------------------------------------------------------------------------\n",
        "# Quanto custa pedir uma Lanche e um Refrigerante?\n",
        "print('O valor total do pedido de um Lanche e um Refrigerante é: ', lanchePreco + refrigerantePreco)\n",
        "print('--------------------------------------------------------------------------------------------------')\n",
        "# ------------------------------------------------------------------------------------------------------\n",
        "# Podemos atribuir uma variável para a conta total do pedido?\n",
        "pedidoValorTotal = lanchePreco + batatafritaPreco + refrigerantePreco\n",
        "print('O valor total do pedido é: ', pedidoValorTotal)\n",
        "print('-----------------------------------------------------------------------------------------------------------------------------------------------------------------------------------------------------------')\n",
        "# ------------------------------------------------------------------------------------------------------\n",
        "# Fazendo uma impressão composta\n",
        "# Quanto custa pedir um lanche e uma batata? Considere a forma de pagamento pelo cartão\n",
        "pagamentoForma = 'cartão'\n",
        "pedidoValorTotal = lanchePreco + batatafritaPreco\n",
        "print('Você pediu um lanche de R$ ' ,lanchePreco, ' e uma porção de Batata Frita, no valor de: R$ ',batatafritaPreco, 'totalizando o valor de R$ ',pedidoValorTotal , ' e a forma de pagamento foi:',pagamentoForma)\n",
        "print('------------------------------------------------------------------------------------------------------------------------------------------------------------------------------------------------------------')"
      ]
    }
  ]
}