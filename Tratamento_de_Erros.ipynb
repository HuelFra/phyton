{
  "nbformat": 4,
  "nbformat_minor": 0,
  "metadata": {
    "colab": {
      "provenance": [],
      "authorship_tag": "ABX9TyNLknJsNsnf9BxG+rWom6Lb",
      "include_colab_link": true
    },
    "kernelspec": {
      "name": "python3",
      "display_name": "Python 3"
    },
    "language_info": {
      "name": "python"
    }
  },
  "cells": [
    {
      "cell_type": "markdown",
      "metadata": {
        "id": "view-in-github",
        "colab_type": "text"
      },
      "source": [
        "<a href=\"https://colab.research.google.com/github/HuelFra/phyton/blob/main/Tratamento_de_Erros.ipynb\" target=\"_parent\"><img src=\"https://colab.research.google.com/assets/colab-badge.svg\" alt=\"Open In Colab\"/></a>"
      ]
    },
    {
      "cell_type": "code",
      "execution_count": 6,
      "metadata": {
        "colab": {
          "base_uri": "https://localhost:8080/"
        },
        "id": "RY8Irr8uQ3ET",
        "outputId": "1bf5df7e-a0eb-433a-abaa-43e3ddde1c2d"
      },
      "outputs": [
        {
          "output_type": "execute_result",
          "data": {
            "text/plain": [
              "1.5"
            ]
          },
          "metadata": {},
          "execution_count": 6
        }
      ],
      "source": [
        "def dividir (a,b):\n",
        "  try:\n",
        "    return a/b\n",
        "  except:\n",
        "    print(\"Erro de divisão por zero\")\n",
        "\n",
        "dividir(9,6)\n"
      ]
    },
    {
      "cell_type": "code",
      "source": [
        "def converte_texto_numero(texto):\n",
        "  try:\n",
        "   return int(texto)\n",
        "  except:\n",
        "    print(\"Erro de conversão. Não é possivel converter a palavra\" ,texto, \"para inteiro\")\n",
        "    return None\n",
        "\n",
        "converte_texto_numero(\"10\")"
      ],
      "metadata": {
        "colab": {
          "base_uri": "https://localhost:8080/"
        },
        "id": "zL6HouJ-RzLf",
        "outputId": "63609822-c210-4d9c-ea15-eb2b14bd1986"
      },
      "execution_count": 18,
      "outputs": [
        {
          "output_type": "execute_result",
          "data": {
            "text/plain": [
              "10"
            ]
          },
          "metadata": {},
          "execution_count": 18
        }
      ]
    }
  ]
}