{
  "nbformat": 4,
  "nbformat_minor": 0,
  "metadata": {
    "colab": {
      "provenance": [],
      "authorship_tag": "ABX9TyOyEGjxU71lGhcmP+Gqkfyo",
      "include_colab_link": true
    },
    "kernelspec": {
      "name": "python3",
      "display_name": "Python 3"
    },
    "language_info": {
      "name": "python"
    }
  },
  "cells": [
    {
      "cell_type": "markdown",
      "metadata": {
        "id": "view-in-github",
        "colab_type": "text"
      },
      "source": [
        "<a href=\"https://colab.research.google.com/github/HuelFra/phyton/blob/main/Particionando_listas.ipynb\" target=\"_parent\"><img src=\"https://colab.research.google.com/assets/colab-badge.svg\" alt=\"Open In Colab\"/></a>"
      ]
    },
    {
      "cell_type": "code",
      "execution_count": 26,
      "metadata": {
        "colab": {
          "base_uri": "https://localhost:8080/"
        },
        "id": "rdlUyy5fKvba",
        "outputId": "6d601f0d-6e64-4e68-d21a-ea9ecd0c285e"
      },
      "outputs": [
        {
          "output_type": "stream",
          "name": "stdout",
          "text": [
            "******************************************************************************************************************\n",
            "A lista criada foi:  [1, 2, 3, 4, 5, 6, 7, 8, 9]\n",
            "A sublista [2:4] é:  [3, 4]\n",
            "O tamanho da lista é:  9\n",
            "O tamanho da sublista é:  2\n",
            "Para contar um elemento específico, temos o count.\n",
            "Contando a quantidade de vezes que aparece o número 7 na lista, teremos:  1\n",
            "******************************************************************************************************************\n",
            "Nova lista:  [2, 2, 2, 4, 4, 7, 7, 7, 7, 7, 9, 9, 7, 8, 8, 8, 7]\n",
            "Contando a quantidade de vezes que aparece o número 7 na nova lista, teremos:  7\n",
            "Contando a quantidade de vezes que aparece o número 2 na nova lista, teremos:  3\n",
            "Contando a quantidade de vezes que aparece o número 9 na nova lista, teremos:  2\n",
            "******************************************************************************************************************\n",
            "Revertendo a lista\n",
            "A lista original é:  [1, 2, 3, 4, 5, 6, 7, 8, 9, 10]\n",
            "A lista reversa é:  [10, 9, 8, 7, 6, 5, 4, 3, 2, 1]\n",
            "******************************************************************************************************************\n",
            "Percorrendo todos os elementos da lista\n",
            "10\n",
            "9\n",
            "8\n",
            "7\n",
            "6\n",
            "5\n",
            "4\n",
            "3\n",
            "2\n",
            "1\n",
            "******************************************************************************************************************\n",
            "Somando os elementos de uma lista e acompanhando os resultados\n",
            "2\n",
            "8\n",
            "17\n",
            "27\n",
            "29\n",
            "34\n",
            "******************************************************************************************************************\n",
            "Somando os elementos de uma lista de strings e acompanhando os resultados\n",
            "Acompanhando o resultado passo a passo:  ['abacate', 'manga', 'banana', 'ameixa', 'banana']\n",
            "Acompanhando o resultado passo a passo:  ['abacate', 'manga', 'ameixa', 'banana']\n",
            "Acompanhando o resultado passo a passo:  ['abacate', 'manga', 'ameixa']\n",
            "A lista final fica assim:  ['abacate', 'manga', 'ameixa']\n",
            "******************************************************************************************************************\n"
          ]
        }
      ],
      "source": [
        "lista = [1,2,3,4,5,6,7,8,9]\n",
        "sublista=lista[2:4]\n",
        "\n",
        "print('******************************************************************************************************************')\n",
        "print('A lista criada foi: ',lista)\n",
        "print('A sublista [2:4] é: ',sublista)\n",
        "print('O tamanho da lista é: ',len(lista))\n",
        "print('O tamanho da sublista é: ',len(sublista))\n",
        "print('Para contar um elemento específico, temos o count.')\n",
        "print('Contando a quantidade de vezes que aparece o número 7 na lista, teremos: ',lista.count(7))\n",
        "print('******************************************************************************************************************')\n",
        "nova_lista = [2,2,2,4,4,7,7,7,7,7,9,9,7,8,8,8,7]\n",
        "print('Nova lista: ',nova_lista)\n",
        "print('Contando a quantidade de vezes que aparece o número 7 na nova lista, teremos: ',nova_lista.count(7))\n",
        "print('Contando a quantidade de vezes que aparece o número 2 na nova lista, teremos: ',nova_lista.count(2))\n",
        "print('Contando a quantidade de vezes que aparece o número 9 na nova lista, teremos: ',nova_lista.count(9))\n",
        "print('******************************************************************************************************************')\n",
        "print('Revertendo a lista')\n",
        "lista_um = [1,2,3,4,5,6,7,8,9,10]\n",
        "print('A lista original é: ',lista_um)\n",
        "lista_um.reverse()\n",
        "print('A lista reversa é: ',lista_um)\n",
        "print('******************************************************************************************************************')\n",
        "print('Percorrendo todos os elementos da lista')\n",
        "for i in lista_um:\n",
        "  print(i)\n",
        "print('******************************************************************************************************************')\n",
        "print('Somando os elementos de uma lista e acompanhando os resultados')\n",
        "numeros = [2,6,9,10,2,5]\n",
        "soma = 0\n",
        "for n in numeros:\n",
        "  soma += n\n",
        "  print(soma)\n",
        "print('******************************************************************************************************************')\n",
        "print('Somando os elementos de uma lista de strings e acompanhando os resultados')\n",
        "frutas = ['banana', 'abacate', 'manga', 'banana','ameixa','banana']\n",
        "while 'banana' in frutas:\n",
        "  frutas.remove('banana')\n",
        "  print ('Acompanhando o resultado passo a passo: ',frutas)\n",
        "print('A lista final fica assim: ',frutas)\n",
        "print('******************************************************************************************************************')\n",
        "\n"
      ]
    }
  ]
}