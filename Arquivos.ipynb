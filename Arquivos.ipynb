{
  "nbformat": 4,
  "nbformat_minor": 0,
  "metadata": {
    "colab": {
      "provenance": [],
      "authorship_tag": "ABX9TyOTmthnk7ZsJQ1FCZ3OqBV3",
      "include_colab_link": true
    },
    "kernelspec": {
      "name": "python3",
      "display_name": "Python 3"
    },
    "language_info": {
      "name": "python"
    }
  },
  "cells": [
    {
      "cell_type": "markdown",
      "metadata": {
        "id": "view-in-github",
        "colab_type": "text"
      },
      "source": [
        "<a href=\"https://colab.research.google.com/github/HuelFra/phyton/blob/main/Arquivos.ipynb\" target=\"_parent\"><img src=\"https://colab.research.google.com/assets/colab-badge.svg\" alt=\"Open In Colab\"/></a>"
      ]
    },
    {
      "cell_type": "code",
      "execution_count": null,
      "metadata": {
        "id": "PqRZq4NiqXn0"
      },
      "outputs": [],
      "source": [
        "#Escrever em arquivos\n",
        "with open('09_05_25.txt', 'r') as arquivo:\n",
        "  for linha in arquivo:\n",
        "    print(\"-\", linha.strip())"
      ]
    },
    {
      "cell_type": "code",
      "source": [
        "# Quantas linhas tem meu arquivo\n",
        "with open('09_05_25.txt', 'r') as arquivo:\n",
        "  linhas = arquivo.readlines()\n",
        "  print(f\"O arquivo tem {len(linhas)} linhas\")"
      ],
      "metadata": {
        "id": "TIAh2FCgrndO"
      },
      "execution_count": null,
      "outputs": []
    },
    {
      "cell_type": "code",
      "source": [
        "with open('09_05_25 - Copia.txt', 'w') as arq_w:\n",
        "  arq_w.write(\"Este é um teste de escrita\\n\")\n",
        "  arq_w.write(\"Essa linha é a segunda domeu arquivo\\n\")\n",
        "  arq_w.write(\"Toda vez que eu rodar esse codigo meu arquivo vai ser sobrescrito\")"
      ],
      "metadata": {
        "id": "9x8WZILyrzJW"
      },
      "execution_count": 3,
      "outputs": []
    },
    {
      "cell_type": "code",
      "source": [
        "with open('teste_escrita_a.txt','w') as arq_a:\n",
        "  arq_a.write(\"Essa é a primeira linha escrita com a\\n\")"
      ],
      "metadata": {
        "id": "782FH0UYsyVv"
      },
      "execution_count": 11,
      "outputs": []
    },
    {
      "cell_type": "code",
      "source": [
        "with open('teste_escrita_a.txt','a') as arq_a:\n",
        "  arq_a.write(\"Essa é a segunda linha do arquivo\\n\")"
      ],
      "metadata": {
        "id": "EvRMzYnstJtn"
      },
      "execution_count": 12,
      "outputs": []
    },
    {
      "cell_type": "code",
      "source": [
        "lista_frutas = ['banana','ameixa','laranja', 'abacate']\n",
        "with open('frutas.txt','a') as arq:\n",
        "  for fruta in lista_frutas:\n",
        "    arq.write(fruta + '\\n')\n"
      ],
      "metadata": {
        "id": "y0zdPKnew6oY"
      },
      "execution_count": null,
      "outputs": []
    }
  ]
}