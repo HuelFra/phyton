{
  "nbformat": 4,
  "nbformat_minor": 0,
  "metadata": {
    "colab": {
      "provenance": [],
      "authorship_tag": "ABX9TyNBMwec+hxawdKAc3HEDi9R",
      "include_colab_link": true
    },
    "kernelspec": {
      "name": "python3",
      "display_name": "Python 3"
    },
    "language_info": {
      "name": "python"
    }
  },
  "cells": [
    {
      "cell_type": "markdown",
      "metadata": {
        "id": "view-in-github",
        "colab_type": "text"
      },
      "source": [
        "<a href=\"https://colab.research.google.com/github/HuelFra/phyton/blob/main/Matplotlib.ipynb\" target=\"_parent\"><img src=\"https://colab.research.google.com/assets/colab-badge.svg\" alt=\"Open In Colab\"/></a>"
      ]
    },
    {
      "cell_type": "code",
      "execution_count": 2,
      "metadata": {
        "id": "obq3CRYwcUS1"
      },
      "outputs": [],
      "source": [
        "import numpy as np\n",
        "import matplotlib as plt\n",
        "import matplotlib.pyplot as plt\n"
      ]
    },
    {
      "cell_type": "code",
      "source": [
        "# linspace pega uma série de valores, no caso de 1 até 100\n",
        "x = np.linspace(0,100,30)\n",
        "x"
      ],
      "metadata": {
        "id": "YCDDqRVDllSD"
      },
      "execution_count": null,
      "outputs": []
    },
    {
      "cell_type": "code",
      "source": [
        "# Elevando x ao quadrado\n",
        "y = x**2\n",
        "y"
      ],
      "metadata": {
        "id": "zSWywpY-l31a"
      },
      "execution_count": null,
      "outputs": []
    },
    {
      "cell_type": "code",
      "source": [
        "# plt.plot, já é um comando que gera um gráfico\n",
        "plt.plot(x,y)"
      ],
      "metadata": {
        "id": "JqcsGEmAl_9n"
      },
      "execution_count": null,
      "outputs": []
    },
    {
      "cell_type": "code",
      "source": [
        "# Nomeando o eixo y\n",
        "plt.plot(x,y)\n",
        "plt.xlabel(\"Valores Eixo X\")"
      ],
      "metadata": {
        "id": "YihIofpsmlMz"
      },
      "execution_count": null,
      "outputs": []
    },
    {
      "cell_type": "code",
      "source": [
        "# Nomeando os eixos x e y\n",
        "plt.plot(x,y)\n",
        "plt.xlabel(\"Valores do Eixo x\")\n",
        "plt.ylabel(\"Valores do Eixo y\")"
      ],
      "metadata": {
        "id": "bwfXMUZRnNfK"
      },
      "execution_count": null,
      "outputs": []
    },
    {
      "cell_type": "code",
      "source": [
        "#Colocando Título no Gráfico\n",
        "plt.plot(x,y)\n",
        "plt.xlabel(\"Valores do Eixo x\")\n",
        "plt.ylabel(\"Valores do Eixo y\")\n",
        "plt.title(\"Gráfico de x vs y\")"
      ],
      "metadata": {
        "id": "GVKsZSnhndsP"
      },
      "execution_count": null,
      "outputs": []
    },
    {
      "cell_type": "code",
      "source": [
        "# Mudando a cor da linha do gráfico\n",
        "plt.plot(x,y, color = 'green')\n",
        "plt.xlabel(\"Valores do Eixo x\")\n",
        "plt.ylabel(\"Valores do Eixo y\")\n",
        "plt.title(\"Gráfico de x vs y\")"
      ],
      "metadata": {
        "id": "sViHXODzn282"
      },
      "execution_count": null,
      "outputs": []
    },
    {
      "cell_type": "code",
      "source": [
        "# Mudando o estilo da linha para tracejada\n",
        "plt.plot(x,y, color = 'green', linestyle = '--')\n",
        "plt.xlabel(\"Valores do Eixo x\")\n",
        "plt.ylabel(\"Valores do Eixo y\")\n",
        "plt.title(\"Gráfico de x vs y\")\n"
      ],
      "metadata": {
        "id": "mSgxSy9VpQ7E"
      },
      "execution_count": null,
      "outputs": []
    },
    {
      "cell_type": "code",
      "source": [
        "# Criando um gráfico de barras\n",
        "plt.bar(x,y)\n",
        "plt.xlabel(\"Valores do Eixo x\")\n",
        "plt.ylabel(\"Valores do Eixo y\")\n",
        "plt.title(\"Gráfico de x vs y\")\n"
      ],
      "metadata": {
        "id": "JXKv_Ucep9qU"
      },
      "execution_count": null,
      "outputs": []
    },
    {
      "cell_type": "code",
      "source": [
        "# A função subplot permite criar múltiplos gráficos (subplots) dentro de uma mesma figura.\n",
        "# O subplot cria gráficos para que sejam feitas comparações.\n",
        "\n",
        "# A sintaxe do subplot é: plt.subplot(n_linhas, n_colunas, índice):\n",
        "# n_linhas: número de linhas de gráficos\n",
        "# n_colunas: número de colunas de gráficos\n",
        "# índice: posição do gráfico (começa de 1)\n",
        "\n",
        "plt.subplot(1,2,1)\n",
        "plt.subplot(1,2,2)"
      ],
      "metadata": {
        "id": "u7xpEq5JtLve"
      },
      "execution_count": null,
      "outputs": []
    },
    {
      "cell_type": "code",
      "source": [
        "# Gerando dados com NumPy\n",
        "x = np.linspace(0, 10, 100)\n",
        "y1 = np.sin(x)\n",
        "y2 = np.cos(x)\n",
        "\n",
        "# Criando subplots (2 linhas, 1 coluna)\n",
        "plt.subplot(2, 1, 1)  # 1º subplot\n",
        "plt.plot(x, y1)\n",
        "plt.title('Seno')\n",
        "\n",
        "plt.subplot(2, 1, 2)  # 2º subplot\n",
        "plt.plot(x, y2)\n",
        "plt.title('Cosseno')\n",
        "\n",
        "plt.tight_layout()\n",
        "plt.show()"
      ],
      "metadata": {
        "id": "oSOJsTqLuLUo"
      },
      "execution_count": null,
      "outputs": []
    },
    {
      "cell_type": "code",
      "source": [
        "# Outra forma mais flexível e recomendada atualmente:\n",
        "fig, axs = plt.subplots(2, 1)  # 2 linhas, 1 coluna\n",
        "axs[0].plot(x, y1)\n",
        "axs[0].set_title(\"Seno\")\n",
        "\n",
        "axs[1].plot(x, y2)\n",
        "axs[1].set_title(\"Cosseno\")\n",
        "\n",
        "plt.tight_layout()\n",
        "plt.show()"
      ],
      "metadata": {
        "id": "ltom7UaOuq_Q"
      },
      "execution_count": null,
      "outputs": []
    },
    {
      "cell_type": "code",
      "source": [
        "#\n",
        "plt.subplot(1,2,1)\n",
        "y = x**2\n",
        "plt.plot(x,y, color = 'green', linestyle = '--')\n",
        "plt.subplot(1,2,2)\n"
      ],
      "metadata": {
        "id": "fCWuOKV2u-F4"
      },
      "execution_count": null,
      "outputs": []
    },
    {
      "cell_type": "code",
      "source": [
        "plt.subplot(1,2,1)\n",
        "y = x**2\n",
        "plt.plot(x,y, color = 'green', linestyle = '--')\n",
        "plt.subplot(1,2,2)\n",
        "y = x**3\n",
        "plt.plot(x,y, color = 'blue', linestyle = '--', marker = '.')"
      ],
      "metadata": {
        "id": "lmHED_H9vF-N"
      },
      "execution_count": null,
      "outputs": []
    },
    {
      "cell_type": "code",
      "source": [
        "# Tem como trabalhar com figura no Matplotlib.\n",
        "plt.figure()\n"
      ],
      "metadata": {
        "colab": {
          "base_uri": "https://localhost:8080/",
          "height": 52
        },
        "id": "1LaIJeFbvvGo",
        "outputId": "b068fcfa-9f93-4169-cbb7-aa65b610dfac"
      },
      "execution_count": 30,
      "outputs": [
        {
          "output_type": "execute_result",
          "data": {
            "text/plain": [
              "<Figure size 640x480 with 0 Axes>"
            ]
          },
          "metadata": {},
          "execution_count": 30
        },
        {
          "output_type": "display_data",
          "data": {
            "text/plain": [
              "<Figure size 640x480 with 0 Axes>"
            ]
          },
          "metadata": {}
        }
      ]
    },
    {
      "cell_type": "code",
      "source": [
        "# Trabalhando com largura e altura da figura\n",
        "plt.figure(figsize=(10,3))\n",
        "plt.subplot(1,2,1)\n",
        "plt.plot(x,y,\"g--\")"
      ],
      "metadata": {
        "id": "CC0P5z_Iw3i1"
      },
      "execution_count": null,
      "outputs": []
    },
    {
      "cell_type": "code",
      "source": [
        "# Criando dois subplots na figura\n",
        "plt.figure(figsize=(10,5))\n",
        "plt.subplot(1,2,1)\n",
        "plt.plot(x,y,\"g--\")\n",
        "plt.subplot(1,2,2)\n",
        "plt.plot(y,x,\"b--\")"
      ],
      "metadata": {
        "id": "Kec7S4NexOT7"
      },
      "execution_count": null,
      "outputs": []
    },
    {
      "cell_type": "code",
      "source": [
        "# Uso do axes nas figuras\n",
        "# No matplotlib, o Axes é uma das partes centrais da criação de gráficos.\n",
        "# Ele representa uma única área de plotagem (ou seja, um gráfico), com seus próprios eixos x e y.\n",
        "# O Axes faz parte da estrutura de um Figure, que pode conter um ou vários Axes.\n",
        "\n",
        "# Os atributos e métodos úteis de Axes:\n",
        "# ax.set_xlim(), ax.set_ylim(): define limites dos eixos\n",
        "# ax.legend(): adiciona legenda\n",
        "# ax.grid(True): ativa a grade\n",
        "# ax.text(x, y, \"texto\"): adiciona texto\n",
        "\n",
        "fig = plt.figure()\n",
        "axes1 = fig.add_axes([0.1, 0.1, 0.8, 0.8])\n",
        "axes2 = fig.add_axes([0.2, 0.5, 0.4, 0.3])\n",
        "\n",
        "axes1.plot(x,y)\n",
        "axes1.set_xlabel(\"Eixo X\")\n",
        "axes1.set_ylabel(\"Eixo Y\")\n",
        "\n",
        "axes2.plot(y,x, \"g--\")\n",
        "axes2.set_xlabel(\"Eixo X\")\n",
        "axes2.set_ylabel(\"Eixo Y\")\n",
        "\n",
        "plt.show()"
      ],
      "metadata": {
        "id": "ytarhzEnxsO4"
      },
      "execution_count": null,
      "outputs": []
    },
    {
      "cell_type": "code",
      "source": [
        "# Outra maneira de criar gráfico é usando subplots. Subplots já deixa todos os gráficos prontos\n",
        "fig, ax = plt.subplots(2,2)"
      ],
      "metadata": {
        "id": "X6FrYko0yp7d"
      },
      "execution_count": null,
      "outputs": []
    },
    {
      "cell_type": "code",
      "source": [
        "# Gerando informações nos gráficos\n",
        "fig, ax = plt.subplots(2,2)\n",
        "ax[0,0].plot(x,y,\"g--\")\n",
        "ax[0,0].set_xlabel(\"Eixo X\")\n",
        "ax[0,0].set_ylabel(\"Eixo Y\")\n",
        "ax[0,0].set_title(\"Gráfico 1\")\n",
        "\n",
        "ax[0,1].plot(y,x,\"b--\")\n",
        "ax[0,1].set_xlabel(\"Eixo X\")\n",
        "ax[0,1].set_ylabel(\"Eixo Y\")\n",
        "ax[0,1].set_title(\"Gráfico 2\")\n",
        "\n",
        "ax[1,0].plot(x,y,\"r--\")\n",
        "ax[1,0].set_xlabel(\"Eixo X\")\n",
        "ax[1,0].set_ylabel(\"Eixo Y\")\n",
        "ax[1,0].set_title(\"Gráfico 3\")\n",
        "\n",
        "ax[1,1].plot(y,x,\"y--\")\n",
        "ax[1,1].set_xlabel(\"Eixo X\")\n",
        "ax[1,1].set_ylabel(\"Eixo Y\")\n",
        "ax[1,1].set_title(\"Gráfico 4\")\n",
        "\n",
        "plt.tight_layout()"
      ],
      "metadata": {
        "id": "g_VNwwLMzMuZ"
      },
      "execution_count": null,
      "outputs": []
    },
    {
      "cell_type": "code",
      "source": [],
      "metadata": {
        "id": "NZzVJzAi0hxl"
      },
      "execution_count": null,
      "outputs": []
    }
  ]
}