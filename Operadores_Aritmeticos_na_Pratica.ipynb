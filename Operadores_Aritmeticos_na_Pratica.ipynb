{
  "nbformat": 4,
  "nbformat_minor": 0,
  "metadata": {
    "colab": {
      "provenance": [],
      "authorship_tag": "ABX9TyM/I8O9AE8ydsZW1IAKtZUI",
      "include_colab_link": true
    },
    "kernelspec": {
      "name": "python3",
      "display_name": "Python 3"
    },
    "language_info": {
      "name": "python"
    }
  },
  "cells": [
    {
      "cell_type": "markdown",
      "metadata": {
        "id": "view-in-github",
        "colab_type": "text"
      },
      "source": [
        "<a href=\"https://colab.research.google.com/github/HuelFra/phyton/blob/main/Operadores_Aritmeticos_na_Pratica.ipynb\" target=\"_parent\"><img src=\"https://colab.research.google.com/assets/colab-badge.svg\" alt=\"Open In Colab\"/></a>"
      ]
    },
    {
      "cell_type": "code",
      "execution_count": 30,
      "metadata": {
        "id": "BIfuXEq5bH0Z",
        "colab": {
          "base_uri": "https://localhost:8080/"
        },
        "outputId": "8205367c-9ba1-4fb4-cb91-5ccc188d283d"
      },
      "outputs": [
        {
          "output_type": "stream",
          "name": "stdout",
          "text": [
            " A soma de A + B é: 9\n",
            " A subtração de A - B é: 5\n",
            " A multiplicação de A * B é: 14\n",
            " A divisão de A / B é: 3.5\n",
            " A exponenciação de A ** B é: 49\n",
            " A divisão inteira de A // B é: 3\n",
            " O resto da divisão de A % B é: 1\n",
            "---------------------------------------------\n",
            "O nome completo é: Maria Santos\n",
            "Imprime a palavra Olá 5 vezes. Olá Olá Olá Olá Olá \n",
            "---------------------------------------------\n",
            "O resultado da sentença A + B * D é: 44.5\n",
            "O resultado da sentença (A + B) * D é: 168.75\n",
            "---------------------------------------------\n",
            "Convertendo 4 para string temos: 4\n",
            "Convertendo num_str para inteiro temos: 4\n",
            "Convertendo 1.857, temos o valor: 1.857\n",
            "Convertendo bool_true (True) para inteiro temos: True\n",
            "---------------------------------------------\n",
            "O preço do item Caneta é R$ 25.5\n",
            "---------------------------------------------\n",
            "25.50 - ####Caneta\n",
            "---------------------------------------------\n"
          ]
        }
      ],
      "source": [
        "#Foram declaradas duas variáveis, A = 7 e B = 2, para demonstrar o uso dos operadores.\n",
        "A = 7\n",
        "B = 2\n",
        "print(' A soma de A + B é:',A + B) # Soma -> Resultado: 9\n",
        "print(' A subtração de A - B é:',A - B) # Subtração -> Resultado: 5\n",
        "print(' A multiplicação de A * B é:',A * B) # Multiplicação -> Resultado: 14\n",
        "print(' A divisão de A / B é:',A / B) # Divisão -> Resultado: 3.5\n",
        "print(' A exponenciação de A ** B é:',A ** B) # Exponenciação -> Resultado: 49\n",
        "print(' A divisão inteira de A // B é:',A // B) # Divisão Inteira -> Resultado: 3\n",
        "print(' O resto da divisão de A % B é:',A % B) # Resto da Divisão -> Resultado: 1\n",
        "print ('-' *45)\n",
        "# Além de valores numéricos, também é possível fazer operações de concatenação e repetição com strings em Python:\n",
        "nome_primeiro = 'Maria'\n",
        "nome_ultimo = 'Santos'\n",
        "nome_completo = nome_primeiro + \" \" + nome_ultimo\n",
        "print('O nome completo é:', nome_completo)\n",
        "print(\"Imprime a palavra Olá 5 vezes.\",\"Olá \" * 5) # Imprime \"Olá\" 5 vezes\n",
        "print ('-' *45)\n",
        "#A precedência dos operadores segue as regras matemáticas:\n",
        "# Parênteses\n",
        "# Exponenciação\n",
        "# Multiplicação\n",
        "# Divisão\n",
        "# Divisão Inteira e Resto da Divisão\n",
        "# Soma e Subtração\n",
        "D = 18.75\n",
        "print(\"O resultado da sentença A + B * D é:\",A + B * D) # Resultado: 44.5\n",
        "print(\"O resultado da sentença (A + B) * D é:\",(A + B) * D) # Resultado: 168.75\n",
        "print ('-' *45)\n",
        "# Em Python também é possível converter o tipo de dados de uma variável, transformando de string para número, número para string, inteiro para ponto flutuante e vice-versa.\n",
        "# Os principais métodos são:\n",
        "# str() -> Converte para string\n",
        "# int() -> Converte para inteiro\n",
        "# float() -> Converte para ponto flutuante\n",
        "num_str = \"4\"\n",
        "num_int = int(num_str) # num_int = 4\n",
        "valor = 1.857\n",
        "int(valor) # Resultado: 1 (parte inteira)\n",
        "bool_true = True\n",
        "int(bool_true) # Resultado: 1\n",
        "print(\"Convertendo 4 para string temos:\",num_str)\n",
        "print(\"Convertendo num_str para inteiro temos:\",num_int)\n",
        "print(\"Convertendo 1.857, temos o valor:\",valor)\n",
        "print (\"Convertendo bool_true (True) para inteiro temos:\",bool_true)\n",
        "print ('-' *45)\n",
        "#Para imprimir variáveis e textos formatados no terminal, podemos utilizar a função print() com placeholders {} e o método .format():\n",
        "preco = 25.5\n",
        "item = \"Caneta\"\n",
        "print(\"O preço do item {} é R$ {}\".format(item, preco))\n",
        "print ('-' *45)\n",
        "#Dentro das chaves colocamos os valores/variáveis que queremos imprimir, na ordem em que aparecem no texto.\n",
        "#Também é possível formatar números, definindo quantidade de casas decimais, caracteres mínimos e tipo:\n",
        "print(\"{:.2f} - {:#>10}\".format(preco, item))\n",
        "print ('-' *45)"
      ]
    }
  ]
}