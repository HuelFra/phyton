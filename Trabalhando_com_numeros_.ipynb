{
  "nbformat": 4,
  "nbformat_minor": 0,
  "metadata": {
    "colab": {
      "provenance": [],
      "toc_visible": true,
      "authorship_tag": "ABX9TyPAyJGbeoJ8sEnXsNUzpadz",
      "include_colab_link": true
    },
    "kernelspec": {
      "name": "python3",
      "display_name": "Python 3"
    },
    "language_info": {
      "name": "python"
    }
  },
  "cells": [
    {
      "cell_type": "markdown",
      "metadata": {
        "id": "view-in-github",
        "colab_type": "text"
      },
      "source": [
        "<a href=\"https://colab.research.google.com/github/HuelFra/phyton/blob/main/Trabalhando_com_numeros_.ipynb\" target=\"_parent\"><img src=\"https://colab.research.google.com/assets/colab-badge.svg\" alt=\"Open In Colab\"/></a>"
      ]
    },
    {
      "cell_type": "code",
      "source": [
        "#número int, número inteiro que não tem casas decimais\n",
        "print(7)\n",
        "print()\n",
        "#número com vírgula - utilizamos ponto como separador decimal\n",
        "print(7.2)\n",
        "print()\n",
        "#somando números\n",
        "#somando 2 inteiros\n",
        "print(7 + 2)\n",
        "print()\n",
        "#somando 2 float\n",
        "print(7.2 + 2.8)\n",
        "print()\n",
        "# e se eu colocar os números entre \"aspas\"?\n",
        "print('7' + '2') #entre aspas é uma string, então o + fará o papel de concatenação\n",
        "print()\n",
        "# um exemplo de concatenação com variáveis\n",
        "print('João' + ' Souza')"
      ],
      "metadata": {
        "colab": {
          "base_uri": "https://localhost:8080/"
        },
        "id": "m_jSng6yzBf5",
        "outputId": "faf0a1c1-a94d-4bd1-fa13-08cc6a21ade8"
      },
      "execution_count": 2,
      "outputs": [
        {
          "output_type": "stream",
          "name": "stdout",
          "text": [
            "7\n",
            "\n",
            "7.2\n",
            "\n",
            "9\n",
            "\n",
            "10.0\n",
            "\n",
            "72\n",
            "João Souza\n"
          ]
        }
      ]
    }
  ]
}