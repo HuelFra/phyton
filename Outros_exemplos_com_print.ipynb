{
  "nbformat": 4,
  "nbformat_minor": 0,
  "metadata": {
    "colab": {
      "provenance": [],
      "authorship_tag": "ABX9TyM6OlhlgDI9G3yA/8Eaaflh",
      "include_colab_link": true
    },
    "kernelspec": {
      "name": "python3",
      "display_name": "Python 3"
    },
    "language_info": {
      "name": "python"
    }
  },
  "cells": [
    {
      "cell_type": "markdown",
      "metadata": {
        "id": "view-in-github",
        "colab_type": "text"
      },
      "source": [
        "<a href=\"https://colab.research.google.com/github/HuelFra/phyton/blob/main/Outros_exemplos_com_print.ipynb\" target=\"_parent\"><img src=\"https://colab.research.google.com/assets/colab-badge.svg\" alt=\"Open In Colab\"/></a>"
      ]
    },
    {
      "cell_type": "code",
      "execution_count": 3,
      "metadata": {
        "colab": {
          "base_uri": "https://localhost:8080/"
        },
        "id": "47ehhuOYlvzE",
        "outputId": "58f97b3a-5aaa-4a38-be46-441d87ae6b10"
      },
      "outputs": [
        {
          "output_type": "stream",
          "name": "stdout",
          "text": [
            "Meu nome éHuel\n",
            "Meu nome é Huel\n",
            "eu tenho 3 gatos\n",
            "eu tenho3gatos\n"
          ]
        }
      ],
      "source": [
        "# o print pode ser concatenado usando + ==> print('frase1' + 'frase2' + ...)\n",
        "# Exemplos de print com o +\n",
        "print('Meu nome é' + 'Huel') # Não considera espaço entre as variáveis\n",
        "\n",
        "# Exemplos de print com a ,\n",
        "print('Meu nome é', 'Huel') # Entende que há espaço entre as variáveis\n",
        "\n",
        "# Exemplo de print com string e números usando ,\n",
        "print('eu tenho',3,'gatos')\n",
        "\n",
        "# Exemplo de print com string e números usando +\n",
        "print('eu tenho'+'3'+'gatos') # Não concatena desta maneira strings e números\n",
        "# print ('Eu tenho' + 3 + 'cahorros')\n",
        "\n",
        "#Explicação\n",
        "# Quando usamos a função print (,,,) separando com vírgulas, a função está plotando 1 termo de cada vez, seja ele string, int ou float\n",
        "# Quando usamos a função print (+++) separando com soma, estamos somando os valores dentro do print antes de plotar. E a função soma tem funcionalidades diferentes dependendo do Tipo de Dado que estamos trabalhando.\n",
        "# int + int => soma\n",
        "# float + float => soma\n",
        "# int + float => soma\n",
        "# str + str => concatenar\n",
        "# str + int => erro\n"
      ]
    }
  ]
}