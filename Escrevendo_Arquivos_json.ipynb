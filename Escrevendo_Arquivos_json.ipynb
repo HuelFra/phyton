{
  "nbformat": 4,
  "nbformat_minor": 0,
  "metadata": {
    "colab": {
      "provenance": [],
      "authorship_tag": "ABX9TyNjDADx+2wXf+1D3BBnmZOv",
      "include_colab_link": true
    },
    "kernelspec": {
      "name": "python3",
      "display_name": "Python 3"
    },
    "language_info": {
      "name": "python"
    }
  },
  "cells": [
    {
      "cell_type": "markdown",
      "metadata": {
        "id": "view-in-github",
        "colab_type": "text"
      },
      "source": [
        "<a href=\"https://colab.research.google.com/github/HuelFra/phyton/blob/main/Escrevendo_Arquivos_json.ipynb\" target=\"_parent\"><img src=\"https://colab.research.google.com/assets/colab-badge.svg\" alt=\"Open In Colab\"/></a>"
      ]
    },
    {
      "cell_type": "code",
      "source": [],
      "metadata": {
        "id": "98HbIyl61Tfm"
      },
      "execution_count": null,
      "outputs": []
    },
    {
      "cell_type": "code",
      "execution_count": 12,
      "metadata": {
        "id": "0U2RsVMn0skt"
      },
      "outputs": [],
      "source": [
        "import json\n",
        "#criando um dicionário chamado dados\n",
        "dados = {\n",
        "    \"nome:\": \"Joao\",\n",
        "    \"idade\": 30,\n",
        "    \"cidade\": \"Sao Paulo\"\n",
        "}\n",
        "\n",
        "#criando e lendo os dados\n",
        "with open(\"dados.json\", \"w\") as arquivo:\n",
        "    json.dump(dados, arquivo)\n",
        "\n",
        "dados2 = {\n",
        "    \"nome:\": \"Maria\",\n",
        "    \"idade\": 25,\n",
        "    \"cidade\": \"Rio de Janeiro\"\n",
        "}\n",
        "\n",
        "lista_dados = [dados, dados2]\n",
        "\n",
        "    #criando e lendo os dados de uma lista\n",
        "with open(\"lista_dados.json\", \"w\") as arquivo:\n",
        "    json.dump(lista_dados, arquivo)\n"
      ]
    }
  ]
}