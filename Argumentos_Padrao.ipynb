{
  "nbformat": 4,
  "nbformat_minor": 0,
  "metadata": {
    "colab": {
      "provenance": [],
      "authorship_tag": "ABX9TyP+wmeZuyCZc+DrOIihA4fX",
      "include_colab_link": true
    },
    "kernelspec": {
      "name": "python3",
      "display_name": "Python 3"
    },
    "language_info": {
      "name": "python"
    }
  },
  "cells": [
    {
      "cell_type": "markdown",
      "metadata": {
        "id": "view-in-github",
        "colab_type": "text"
      },
      "source": [
        "<a href=\"https://colab.research.google.com/github/HuelFra/phyton/blob/main/Argumentos_Padrao.ipynb\" target=\"_parent\"><img src=\"https://colab.research.google.com/assets/colab-badge.svg\" alt=\"Open In Colab\"/></a>"
      ]
    },
    {
      "cell_type": "code",
      "execution_count": null,
      "metadata": {
        "colab": {
          "base_uri": "https://localhost:8080/"
        },
        "id": "gcP2Ci-xOqFz",
        "outputId": "c3a0bfe8-b752-4deb-8817-99338c031769"
      },
      "outputs": [
        {
          "output_type": "stream",
          "name": "stdout",
          "text": [
            "Seja bem-vindo, Ana de Vitoria\n"
          ]
        }
      ],
      "source": [
        "#Boas Vindas Padronizada\n",
        "def boas_vindas_padrao(nome, cidade = 'São Paulo'):\n",
        "  print(f\"Seja bem-vindo, {nome} de {cidade}\")\n",
        "\n",
        "boas_vindas_padrao(\"Ana\", \"Vitoria\") #Aqui sobrescreve a cidade (era São Paulo e passa a ser Vitória)"
      ]
    },
    {
      "cell_type": "code",
      "source": [
        "#Boas Vindas Padronizada_exemplo 2\n",
        "def boas_vindas_padrao1(nome, cidade = 'São Paulo'):\n",
        "  print(f\"Seja bem-vindo, {nome} de {cidade}\")\n",
        "\n",
        "boas_vindas_padrao1(nome='Maria') #Aqui aparece a cidade de São Paulo"
      ],
      "metadata": {
        "colab": {
          "base_uri": "https://localhost:8080/"
        },
        "id": "7_vHm4M6P2co",
        "outputId": "d3872324-0428-401b-8628-654c061f9da6"
      },
      "execution_count": null,
      "outputs": [
        {
          "output_type": "stream",
          "name": "stdout",
          "text": [
            "Seja bem-vindo, Maria de São Paulo\n"
          ]
        }
      ]
    },
    {
      "cell_type": "code",
      "source": [
        "#Para documentar um código,você deve usar as Docstrings.São comentários com aspas triplas \"\"\"<Comentários reconhecidos por vários softwares \"\"\"\n",
        "#Usando DocString\n",
        "\n",
        "def boas_vindas_padrao(nome, cidade = 'São Paulo'):\n",
        "  \"\"\"Envia uma mensagem de boas vindas\n",
        "\n",
        "  Args:\n",
        "    nome: é uma string\n",
        "    cidade: uma string (opcional, valor padrão é 'São Paulo')\n",
        "\n",
        "  Returns:\n",
        "    Mensagem final personalizada\n",
        "  \"\"\"\n",
        "\n",
        "  print(f\"Seja bem-vindo, {nome} de {cidade}\")\n",
        "\n",
        "boas_vindas_padrao(\"Ana\", \"São Paulo\")"
      ],
      "metadata": {
        "colab": {
          "base_uri": "https://localhost:8080/"
        },
        "id": "mY39DJ-rR--n",
        "outputId": "6b1d7006-d378-4fed-ad6e-c919ac84c878"
      },
      "execution_count": null,
      "outputs": [
        {
          "output_type": "stream",
          "name": "stdout",
          "text": [
            "Seja bem-vindo, Ana de São Paulo\n"
          ]
        }
      ]
    },
    {
      "cell_type": "code",
      "source": [
        "a = 10 #variável global\n",
        "def funcao():\n",
        "    a = 5 #variável local\n",
        "    b = 8\n",
        "    print(a, b)\n",
        "\n",
        "funcao()\n",
        "print(a)\n",
        "#print(b) # Se tentarmos imprimir o valor de b, teremos um erro, visto que b está declarado localmente (dentro da função)"
      ],
      "metadata": {
        "colab": {
          "base_uri": "https://localhost:8080/"
        },
        "id": "8tflW6QFWh8N",
        "outputId": "3ccfb0b9-a205-4942-ebc4-cbf8b3895f17"
      },
      "execution_count": null,
      "outputs": [
        {
          "output_type": "stream",
          "name": "stdout",
          "text": [
            "5 8\n",
            "10\n"
          ]
        }
      ]
    }
  ]
}