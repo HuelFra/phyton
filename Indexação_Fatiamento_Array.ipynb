{
  "nbformat": 4,
  "nbformat_minor": 0,
  "metadata": {
    "colab": {
      "provenance": [],
      "authorship_tag": "ABX9TyNSw6pOK4gHSHOnhhcTCSGF",
      "include_colab_link": true
    },
    "kernelspec": {
      "name": "python3",
      "display_name": "Python 3"
    },
    "language_info": {
      "name": "python"
    }
  },
  "cells": [
    {
      "cell_type": "markdown",
      "metadata": {
        "id": "view-in-github",
        "colab_type": "text"
      },
      "source": [
        "<a href=\"https://colab.research.google.com/github/HuelFra/phyton/blob/main/Indexa%C3%A7%C3%A3o_Fatiamento_Array.ipynb\" target=\"_parent\"><img src=\"https://colab.research.google.com/assets/colab-badge.svg\" alt=\"Open In Colab\"/></a>"
      ]
    },
    {
      "cell_type": "code",
      "execution_count": 15,
      "metadata": {
        "colab": {
          "base_uri": "https://localhost:8080/"
        },
        "id": "zYbbYjdUWIK5",
        "outputId": "ffaec3fb-8671-4250-8779-762a3fdda273"
      },
      "outputs": [
        {
          "output_type": "stream",
          "name": "stdout",
          "text": [
            "Requirement already satisfied: numpy in /usr/local/lib/python3.11/dist-packages (2.0.2)\n"
          ]
        }
      ],
      "source": [
        "import numpy as np\n",
        "!pip install numpy"
      ]
    },
    {
      "cell_type": "code",
      "source": [
        "arr = np.arange(0,30,3)\n",
        "arr[3]\n",
        "arr[:5]\n",
        "arr[2:]\n",
        "arr[[0,5]]\n",
        "arr[4:7]\n",
        "arr[5:] = 100\n",
        "arr_2d= np.arange(50).reshape([5,10])\n",
        "arr_2d\n",
        "arr_2d[0:3]\n",
        "arr_2d[0:3, 0:3]\n",
        "arr_2d[0:3,4:]\n",
        "arr_2d\n",
        "arr_2d > 20\n",
        "boleano = arr_2d > 20\n",
        "arr_2d[boleano]\n",
        "np.logical_and(arr_2d >= 20, arr_2d <= 30)"
      ],
      "metadata": {
        "colab": {
          "base_uri": "https://localhost:8080/"
        },
        "id": "MJfDifeHYQnC",
        "outputId": "ebe34e82-3506-4755-dc32-38b5a0594505"
      },
      "execution_count": 24,
      "outputs": [
        {
          "output_type": "execute_result",
          "data": {
            "text/plain": [
              "array([[False, False, False, False, False, False, False, False, False,\n",
              "        False],\n",
              "       [False, False, False, False, False, False, False, False, False,\n",
              "        False],\n",
              "       [ True,  True,  True,  True,  True,  True,  True,  True,  True,\n",
              "         True],\n",
              "       [ True, False, False, False, False, False, False, False, False,\n",
              "        False],\n",
              "       [False, False, False, False, False, False, False, False, False,\n",
              "        False]])"
            ]
          },
          "metadata": {},
          "execution_count": 24
        }
      ]
    },
    {
      "cell_type": "code",
      "source": [
        "booleano = np.logical_and(arr_2d >= 20, arr_2d <= 30)\n",
        "arr_2d[booleano]"
      ],
      "metadata": {
        "colab": {
          "base_uri": "https://localhost:8080/"
        },
        "id": "uw_nBwzyapvn",
        "outputId": "9f8dd423-4278-4bda-dd3e-a552d412442c"
      },
      "execution_count": 25,
      "outputs": [
        {
          "output_type": "execute_result",
          "data": {
            "text/plain": [
              "array([20, 21, 22, 23, 24, 25, 26, 27, 28, 29, 30])"
            ]
          },
          "metadata": {},
          "execution_count": 25
        }
      ]
    },
    {
      "cell_type": "code",
      "source": [
        "np.logical_or(arr_2d >= 20, arr_2d <= 30)"
      ],
      "metadata": {
        "colab": {
          "base_uri": "https://localhost:8080/"
        },
        "id": "RIc88rvUa1z2",
        "outputId": "275e9a72-0c83-4bce-f18e-0c4043d0a02e"
      },
      "execution_count": 26,
      "outputs": [
        {
          "output_type": "execute_result",
          "data": {
            "text/plain": [
              "array([[ True,  True,  True,  True,  True,  True,  True,  True,  True,\n",
              "         True],\n",
              "       [ True,  True,  True,  True,  True,  True,  True,  True,  True,\n",
              "         True],\n",
              "       [ True,  True,  True,  True,  True,  True,  True,  True,  True,\n",
              "         True],\n",
              "       [ True,  True,  True,  True,  True,  True,  True,  True,  True,\n",
              "         True],\n",
              "       [ True,  True,  True,  True,  True,  True,  True,  True,  True,\n",
              "         True]])"
            ]
          },
          "metadata": {},
          "execution_count": 26
        }
      ]
    },
    {
      "cell_type": "markdown",
      "source": [],
      "metadata": {
        "id": "Acwk0IZuYm6a"
      }
    }
  ]
}