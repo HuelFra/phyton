{
  "nbformat": 4,
  "nbformat_minor": 0,
  "metadata": {
    "colab": {
      "provenance": [],
      "authorship_tag": "ABX9TyPRBj8waKQBIjPRWKQEttxQ",
      "include_colab_link": true
    },
    "kernelspec": {
      "name": "python3",
      "display_name": "Python 3"
    },
    "language_info": {
      "name": "python"
    }
  },
  "cells": [
    {
      "cell_type": "markdown",
      "metadata": {
        "id": "view-in-github",
        "colab_type": "text"
      },
      "source": [
        "<a href=\"https://colab.research.google.com/github/HuelFra/phyton/blob/main/Modificando_Listas.ipynb\" target=\"_parent\"><img src=\"https://colab.research.google.com/assets/colab-badge.svg\" alt=\"Open In Colab\"/></a>"
      ]
    },
    {
      "cell_type": "code",
      "execution_count": 14,
      "metadata": {
        "colab": {
          "base_uri": "https://localhost:8080/"
        },
        "id": "8BOAtETD-IHj",
        "outputId": "4f779a6b-339b-4067-e3a3-136a758c3733"
      },
      "outputs": [
        {
          "output_type": "stream",
          "name": "stdout",
          "text": [
            "Requirement already satisfied: colorama in /usr/local/lib/python3.11/dist-packages (0.4.6)\n",
            "O valor original da lista_2 é:  [10, 20, 30]\n",
            "\u001b[42m+++++++++++++++++++++++++++++++++++++++++++++++++++++++++++++++++++++++++++++++++++++++++++++++++++++++++++++++++++++++++\u001b[0m\n",
            "\u001b[104m\u001b[93m+++ Alterando o valor da posição 1 da lista_2 +++\u001b[0m\n",
            "O valor alterado da lista_2 é:  [10, 50, 30]\n",
            "\u001b[42m+++++++++++++++++++++++++++++++++++++++++++++++++++++++++++++++++++++++++++++++++++++++++++++++++++++++++++++++++++++++++\u001b[0m\n",
            "\u001b[104m\u001b[93m+++ Unindo duas listas +++\u001b[0m\n",
            "A lista_3 criada é:  [2, 76, 90]\n",
            "A união de lista_2 + lista_3 é:  [10, 50, 30, 2, 76, 90]\n",
            "\u001b[42m+++++++++++++++++++++++++++++++++++++++++++++++++++++++++++++++++++++++++++++++++++++++++++++++++++++++++++++++++++++++++\u001b[0m\n",
            "\u001b[104m\u001b[93m+++ Fazendo exercícios  +++\u001b[0m\n",
            "\u001b[42m========================== 1) Crie uma lista com os valores 10,20,30,40,50 ===================================\u001b[0m\n",
            "Usando o comando lista_exerc = [10,20,30,40,50], a lista solicitada é:  [10, 20, 30, 40, 50]\n",
            "\u001b[42m========================== 2) Insira o número 60 na última posição ===========================================\u001b[0m\n",
            "Usando o comando lista_exerc.append(60), a lista solicitada é:  [10, 20, 30, 40, 50, 60]\n",
            "\u001b[42m========================== 3) Insira o número 12 na posição 1 ================================================\u001b[0m\n",
            "Usando o comando lista_exerc.insert(1,12), inserimos o número 12 na posição 1 da lista, tendo como resultado:  [10, 12, 20, 30, 40, 50, 60]\n",
            "\u001b[42m========================== 4) Remova o número 30 =============================================================\u001b[0m\n",
            "Usando o comando lista_exerc.remove(30), remove o número 30 da lista, temos como resultado:  [10, 12, 20, 40, 50, 60]\n",
            "\u001b[42m+++++++++++++++++++++++++++++++++++++++++++++++++++++++++++++++++++++++++++++++++++++++++++++++++++++++++++++++++++++++++++++++++++\u001b[0m\n"
          ]
        }
      ],
      "source": [
        "!pip install colorama\n",
        "from colorama import Fore, Back, Style\n",
        "\n",
        "lista_2 = [10,20,30]\n",
        "print ('O valor original da lista_2 é: ',lista_2)\n",
        "print(Back.GREEN +\"+++++++++++++++++++++++++++++++++++++++++++++++++++++++++++++++++++++++++++++++++++++++++++++++++++++++++++++++++++++++++\"+ Style.RESET_ALL)\n",
        "print(Back.LIGHTBLUE_EX + Fore.LIGHTYELLOW_EX + '+++ Alterando o valor da posição 1 da lista_2 +++' + Style.RESET_ALL)\n",
        "lista_2 [1]= 50\n",
        "print ('O valor alterado da lista_2 é: ',lista_2)\n",
        "print(Back.GREEN +\"+++++++++++++++++++++++++++++++++++++++++++++++++++++++++++++++++++++++++++++++++++++++++++++++++++++++++++++++++++++++++\"+ Style.RESET_ALL)\n",
        "print(Back.LIGHTBLUE_EX + Fore.LIGHTYELLOW_EX + '+++ Unindo duas listas +++' + Style.RESET_ALL)\n",
        "lista_3 = [2,76,90]\n",
        "print ('A lista_3 criada é: ', lista_3)\n",
        "print('A união de lista_2 + lista_3 é: ', (lista_2 + lista_3))\n",
        "print(Back.GREEN +\"+++++++++++++++++++++++++++++++++++++++++++++++++++++++++++++++++++++++++++++++++++++++++++++++++++++++++++++++++++++++++\"+ Style.RESET_ALL)\n",
        "print(Back.LIGHTBLUE_EX + Fore.LIGHTYELLOW_EX + '+++ Fazendo exercícios  +++' + Style.RESET_ALL)\n",
        "print(Back.GREEN +\"========================== 1) Crie uma lista com os valores 10,20,30,40,50 ===================================\"+ Style.RESET_ALL)\n",
        "lista_exerc = [10,20,30,40,50]\n",
        "print('Usando o comando lista_exerc = [10,20,30,40,50], a lista solicitada é: ', lista_exerc)\n",
        "print(Back.GREEN +\"========================== 2) Insira o número 60 na última posição ===========================================\"+ Style.RESET_ALL)\n",
        "lista_exerc.append(60)\n",
        "print('Usando o comando lista_exerc.append(60), a lista solicitada é: ', lista_exerc)\n",
        "print(Back.GREEN +\"========================== 3) Insira o número 12 na posição 1 ================================================\"+ Style.RESET_ALL)\n",
        "lista_exerc.insert(1,12)\n",
        "print('Usando o comando lista_exerc.insert(1,12), inserimos o número 12 na posição 1 da lista, tendo como resultado: ',lista_exerc)\n",
        "print(Back.GREEN +\"========================== 4) Remova o número 30 =============================================================\"+ Style.RESET_ALL)\n",
        "lista_exerc.remove(30)\n",
        "print('Usando o comando lista_exerc.remove(30), remove o número 30 da lista, temos como resultado: ', lista_exerc)\n",
        "print(Back.GREEN +\"+++++++++++++++++++++++++++++++++++++++++++++++++++++++++++++++++++++++++++++++++++++++++++++++++++++++++++++++++++++++++++++++++++\"+ Style.RESET_ALL)"
      ]
    }
  ]
}