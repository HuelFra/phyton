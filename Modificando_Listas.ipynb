{
  "nbformat": 4,
  "nbformat_minor": 0,
  "metadata": {
    "colab": {
      "provenance": [],
      "authorship_tag": "ABX9TyN9DBcBlssAPVpHPfmlgp4O",
      "include_colab_link": true
    },
    "kernelspec": {
      "name": "python3",
      "display_name": "Python 3"
    },
    "language_info": {
      "name": "python"
    }
  },
  "cells": [
    {
      "cell_type": "markdown",
      "metadata": {
        "id": "view-in-github",
        "colab_type": "text"
      },
      "source": [
        "<a href=\"https://colab.research.google.com/github/HuelFra/phyton/blob/main/Modificando_Listas.ipynb\" target=\"_parent\"><img src=\"https://colab.research.google.com/assets/colab-badge.svg\" alt=\"Open In Colab\"/></a>"
      ]
    },
    {
      "cell_type": "code",
      "execution_count": 23,
      "metadata": {
        "colab": {
          "base_uri": "https://localhost:8080/"
        },
        "id": "8BOAtETD-IHj",
        "outputId": "e22874ae-114c-4a71-f88a-78c32e89bde3"
      },
      "outputs": [
        {
          "output_type": "stream",
          "name": "stdout",
          "text": [
            "Requirement already satisfied: colorama in /usr/local/lib/python3.11/dist-packages (0.4.6)\n",
            "O valor original da lista_2 é:  [10, 20, 30]\n",
            "\u001b[42m+++++++++++++++++++++++++++++++++++++++++++++++++++++++++++++++++++++++++++++++++++++++++++++++++++++++++++++++++++++++++\u001b[0m\n",
            "\u001b[104m\u001b[93m+++ Alterando o valor da posição 1 da lista_2 +++\u001b[0m\n",
            "O valor alterado da lista_2 é:  [10, 50, 30]\n",
            "\u001b[42m+++++++++++++++++++++++++++++++++++++++++++++++++++++++++++++++++++++++++++++++++++++++++++++++++++++++++++++++++++++++++\u001b[0m\n",
            "\u001b[104m\u001b[93m+++ Unindo duas listas +++\u001b[0m\n",
            "A lista_3 criada é:  [2, 76, 90]\n",
            "A união de lista_2 + lista_3 é:  [10, 50, 30, 2, 76, 90]\n",
            "\u001b[42m+++++++++++++++++++++++++++++++++++++++++++++++++++++++++++++++++++++++++++++++++++++++++++++++++++++++++++++++++++++++++\u001b[0m\n",
            "\u001b[104m\u001b[93m+++ Fazendo exercícios  +++\u001b[0m\n",
            "\u001b[42m========================== 1) Crie uma lista com os valores 10,20,30,40,50 ===================================\u001b[0m\n",
            "Usando o comando lista_exerc = [10,20,30,40,50], a lista solicitada é:  [10, 20, 30, 40, 50]\n",
            "\u001b[42m========================== 2) Insira o número 60 na última posição ===========================================\u001b[0m\n",
            "Usando o comando lista_exerc.append(60), a lista solicitada é:  [10, 20, 30, 40, 50, 60]\n",
            "\u001b[42m========================== 3) Insira o número 12 na posição 1 ================================================\u001b[0m\n",
            "Usando o comando lista_exerc.insert(1,12), inserimos o número 12 na posição 1 da lista, tendo como resultado:  [10, 12, 20, 30, 40, 50, 60]\n",
            "\u001b[42m========================== 4) Remova o número 30 =============================================================\u001b[0m\n",
            "Usando o comando lista_exerc.remove(30), remove o número 30 da lista, temos como resultado:  [10, 12, 20, 40, 50, 60]\n",
            "\u001b[42m+++++++++++++++++++++++++++++++++++++++++++++++++++++++++++++++++++++++++++++++++++++++++++++++++++++++++++++++++++++++++++++++++++\u001b[0m\n",
            "\n",
            "\u001b[104m\u001b[93m+++ Trabalhando com listas de itens  +++\u001b[0m\n",
            "\u001b[42m========================== 1) Crie uma lista com os seguintes itens: mesa,cadeira e armário =============================================================\u001b[0m\n",
            " Utilizamos o comando lista_itens = [mesa,cadeira, armario], para criar a lista de itens:  ['mesa', 'cadeira', 'armario']\n",
            "\u001b[42m========================== 2) Altere a cadeira por poltrona  ============================================================================================\u001b[0m\n",
            "Usamos o comando lista_itens[1] =poltrona, para alterar o item e ficamos com o seguinte resultado:  ['mesa', 'poltrona', 'armario']\n",
            "\u001b[42m========================== 3) Remova o item armário e apenas mostre o item removido  ====================================================================\u001b[0m\n",
            "\u001b[42m========================== 4) Limpe toda a lista de itens  ==============================================================================================\u001b[0m\n",
            "Utilizamos o comando lista_itens.clear() para limpar toda a lista:  []\n",
            "\u001b[42m+++++++++++++++++++++++++++++++++++++++++++++++++++++++++++++++++++++++++++++++++++++++++++++++++++++++++++++++++++++++++++++++++++\u001b[0m\n"
          ]
        }
      ],
      "source": [
        "!pip install colorama\n",
        "from colorama import Fore, Back, Style\n",
        "\n",
        "lista_2 = [10,20,30]\n",
        "print ('O valor original da lista_2 é: ',lista_2)\n",
        "print(Back.GREEN +\"+++++++++++++++++++++++++++++++++++++++++++++++++++++++++++++++++++++++++++++++++++++++++++++++++++++++++++++++++++++++++\"+ Style.RESET_ALL)\n",
        "print(Back.LIGHTBLUE_EX + Fore.LIGHTYELLOW_EX + '+++ Alterando o valor da posição 1 da lista_2 +++' + Style.RESET_ALL)\n",
        "lista_2 [1]= 50\n",
        "print ('O valor alterado da lista_2 é: ',lista_2)\n",
        "print(Back.GREEN +\"+++++++++++++++++++++++++++++++++++++++++++++++++++++++++++++++++++++++++++++++++++++++++++++++++++++++++++++++++++++++++\"+ Style.RESET_ALL)\n",
        "print(Back.LIGHTBLUE_EX + Fore.LIGHTYELLOW_EX + '+++ Unindo duas listas +++' + Style.RESET_ALL)\n",
        "lista_3 = [2,76,90]\n",
        "print ('A lista_3 criada é: ', lista_3)\n",
        "print('A união de lista_2 + lista_3 é: ', (lista_2 + lista_3))\n",
        "print(Back.GREEN +\"+++++++++++++++++++++++++++++++++++++++++++++++++++++++++++++++++++++++++++++++++++++++++++++++++++++++++++++++++++++++++\"+ Style.RESET_ALL)\n",
        "print(Back.LIGHTBLUE_EX + Fore.LIGHTYELLOW_EX + '+++ Fazendo exercícios  +++' + Style.RESET_ALL)\n",
        "print(Back.GREEN +\"========================== 1) Crie uma lista com os valores 10,20,30,40,50 ===================================\"+ Style.RESET_ALL)\n",
        "lista_exerc = [10,20,30,40,50]\n",
        "print('Usando o comando lista_exerc = [10,20,30,40,50], a lista solicitada é: ', lista_exerc)\n",
        "print(Back.GREEN +\"========================== 2) Insira o número 60 na última posição ===========================================\"+ Style.RESET_ALL)\n",
        "lista_exerc.append(60)\n",
        "print('Usando o comando lista_exerc.append(60), a lista solicitada é: ', lista_exerc)\n",
        "print(Back.GREEN +\"========================== 3) Insira o número 12 na posição 1 ================================================\"+ Style.RESET_ALL)\n",
        "lista_exerc.insert(1,12)\n",
        "print('Usando o comando lista_exerc.insert(1,12), inserimos o número 12 na posição 1 da lista, tendo como resultado: ',lista_exerc)\n",
        "print(Back.GREEN +\"========================== 4) Remova o número 30 =============================================================\"+ Style.RESET_ALL)\n",
        "lista_exerc.remove(30)\n",
        "print('Usando o comando lista_exerc.remove(30), remove o número 30 da lista, temos como resultado: ', lista_exerc)\n",
        "print(Back.GREEN +\"+++++++++++++++++++++++++++++++++++++++++++++++++++++++++++++++++++++++++++++++++++++++++++++++++++++++++++++++++++++++++++++++++++\"+ Style.RESET_ALL)\n",
        "print( )\n",
        "print(Back.LIGHTBLUE_EX + Fore.LIGHTYELLOW_EX + '+++ Trabalhando com listas de itens  +++' + Style.RESET_ALL)\n",
        "print(Back.GREEN +\"========================== 1) Crie uma lista com os seguintes itens: mesa,cadeira e armário =============================================================\"+ Style.RESET_ALL)\n",
        "lista_itens = ['mesa','cadeira', 'armario']\n",
        "print( ' Utilizamos o comando lista_itens = [mesa,cadeira, armario], para criar a lista de itens: ',lista_itens)\n",
        "print(Back.GREEN +\"========================== 2) Altere a cadeira por poltrona  ============================================================================================\"+ Style.RESET_ALL)\n",
        "lista_itens[1] = 'poltrona'\n",
        "print('Usamos o comando lista_itens[1] =poltrona, para alterar o item e ficamos com o seguinte resultado: ',lista_itens)\n",
        "print(Back.GREEN +\"========================== 3) Remova o item armário e apenas mostre o item removido  ====================================================================\"+ Style.RESET_ALL)\n",
        "print('Item removido:', lista_itens.pop())\n",
        "print(Back.GREEN +\"========================== 4) Limpe toda a lista de itens  ==============================================================================================\"+ Style.RESET_ALL)\n",
        "lista_itens.clear()\n",
        "print('Utilizamos o comando lista_itens.clear() para limpar toda a lista: ',lista_itens)\n",
        "print(Back.GREEN +\"+++++++++++++++++++++++++++++++++++++++++++++++++++++++++++++++++++++++++++++++++++++++++++++++++++++++++++++++++++++++++++++++++++\"+ Style.RESET_ALL)\n"
      ]
    }
  ]
}