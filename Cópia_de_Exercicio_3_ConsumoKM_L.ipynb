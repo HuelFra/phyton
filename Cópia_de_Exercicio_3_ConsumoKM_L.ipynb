{
  "nbformat": 4,
  "nbformat_minor": 0,
  "metadata": {
    "colab": {
      "provenance": [],
      "authorship_tag": "ABX9TyOaIHZAUWFB/8/Z2OZTk4N0",
      "include_colab_link": true
    },
    "kernelspec": {
      "name": "python3",
      "display_name": "Python 3"
    },
    "language_info": {
      "name": "python"
    }
  },
  "cells": [
    {
      "cell_type": "markdown",
      "metadata": {
        "id": "view-in-github",
        "colab_type": "text"
      },
      "source": [
        "<a href=\"https://colab.research.google.com/github/HuelFra/phyton/blob/main/C%C3%B3pia_de_Exercicio_3_ConsumoKM_L.ipynb\" target=\"_parent\"><img src=\"https://colab.research.google.com/assets/colab-badge.svg\" alt=\"Open In Colab\"/></a>"
      ]
    },
    {
      "cell_type": "code",
      "execution_count": null,
      "metadata": {
        "colab": {
          "base_uri": "https://localhost:8080/"
        },
        "id": "0yvl83LusK7A",
        "outputId": "689f2e9e-df65-4031-b505-5898e9f2433e"
      },
      "outputs": [
        {
          "output_type": "stream",
          "name": "stdout",
          "text": [
            "################################################## Calcular o consumo (km/l) de um carro ##################################################\n",
            "\n",
            "3) Neste exercício iremos calcular o consumo (km/l) de um carro a partir da distância percorrida e litros gastos informados pelo usuário\n",
            "----------------------------------------------------------------------------------------------------\n",
            "Informe a distância percorrida: 678\n",
            " Informe quantos litros de combustível foram gastos: 33.3\n",
            "Informe o valor do litro da gasolina: 6.12\n",
            "Informe o valor do litro do alcool:4.06\n",
            "Informe o valor do litro do diesel: 6.03\n",
            "Foram consumidos 20.36 litros de combustível, na distância 678.0 Km.\n",
            "O valor gasto em gasolina será R$ 203.80,sendo o valor por litro R$ 6.12 .\n",
            "O valor gasto em alcool combustível será R$ 135.20,sendo o valor por litro R$ 4.06 .\n",
            "O valor gasto em diesel combustível será R$ 200.80,sendo o valor por litro R$ 6.03 .\n"
          ]
        }
      ],
      "source": [
        "print('#'*50 + ' Calcular o consumo (km/l) de um carro ' + '#'*50)\n",
        "print()\n",
        "print('3) Neste exercício iremos calcular o consumo (km/l) de um carro a partir da distância percorrida e litros gastos informados pelo usuário')\n",
        "print('-' *100)\n",
        "distancia = input('Informe a distância percorrida: ')\n",
        "litros = input (' Informe quantos litros de combustível foram gastos: ')\n",
        "gasolina = input('Informe o valor do litro da gasolina: ')\n",
        "alcool = input('Informe o valor do litro do alcool:')\n",
        "diesel = input('Informe o valor do litro do diesel: ')\n",
        "\n",
        "distancia = float(distancia)\n",
        "litros = float(litros)\n",
        "gasolina = float(gasolina)\n",
        "alcool = float(alcool)\n",
        "diesel = float(diesel)\n",
        "\n",
        "comb_gasolina = float(gasolina * litros)\n",
        "comb_alcool = float(alcool * litros)\n",
        "comb_diesel = float(diesel * litros)\n",
        "total = float(distancia/litros)\n",
        "\n",
        "print ('Foram consumidos {:.2f} litros de combustível, na distância {} Km.'.format(total,distancia) )\n",
        "print ('O valor gasto em gasolina será R$ {:.2f},sendo o valor por litro R$ {}'.format(comb_gasolina,gasolina),'.' )\n",
        "print ('O valor gasto em alcool combustível será R$ {:.2f},sendo o valor por litro R$ {}'.format(comb_alcool,alcool),'.' )\n",
        "print ('O valor gasto em diesel será R$ {:.2f},sendo o valor por litro R$ {}'.format(comb_diesel,diesel),'.')\n",
        "\n"
      ]
    }
  ]
}