{
  "nbformat": 4,
  "nbformat_minor": 0,
  "metadata": {
    "colab": {
      "provenance": [],
      "authorship_tag": "ABX9TyOMEWVGqrSWOwdsGRGs16I0",
      "include_colab_link": true
    },
    "kernelspec": {
      "name": "python3",
      "display_name": "Python 3"
    },
    "language_info": {
      "name": "python"
    }
  },
  "cells": [
    {
      "cell_type": "markdown",
      "metadata": {
        "id": "view-in-github",
        "colab_type": "text"
      },
      "source": [
        "<a href=\"https://colab.research.google.com/github/HuelFra/phyton/blob/main/Exerc%C3%ADcios_2_Tabuada.ipynb\" target=\"_parent\"><img src=\"https://colab.research.google.com/assets/colab-badge.svg\" alt=\"Open In Colab\"/></a>"
      ]
    },
    {
      "cell_type": "code",
      "execution_count": 21,
      "metadata": {
        "colab": {
          "base_uri": "https://localhost:8080/"
        },
        "id": "BtgiNefun9BE",
        "outputId": "edb3261d-a765-4655-a5e1-387152545625"
      },
      "outputs": [
        {
          "output_type": "stream",
          "name": "stdout",
          "text": [
            "################################################## Imprimido a tabuada ##################################################\n",
            "\n",
            "2) Nesse exercício iremos imprimir a tabuada, sem uso de if´s e loops. O número será informado pelo usuário\n",
            "----------------------------------------------------------------------------------------------------\n",
            "Informe o número da tabuada que deseja obter: 54\n",
            "----------------------------------------------------------------------------------------------------\n",
            "######################### Imprimido a tabuada do número 54 #########################\n",
            "1 x  54 =  54\n",
            "2 x  54 =  108\n",
            "3 x  54 =  162\n",
            "4 x  54 =  216\n",
            "5 x  54 =  270\n",
            "6 x  54 =  324\n",
            "7 x  54 =  378\n",
            "8 x  54 =  432\n",
            "9 x  54 =  486\n",
            "10 x  54 = 540\n",
            "----------------------------------------------------------------------------------------------------\n"
          ]
        }
      ],
      "source": [
        "print('#'*50 + ' Imprimido a tabuada ' + '#'*50)\n",
        "print()\n",
        "print('2) Nesse exercício iremos imprimir a tabuada, sem uso de if´s e loops. O número será informado pelo usuário')\n",
        "print('-'*100)\n",
        "primeiro_num = input(\"Informe o número da tabuada que deseja obter: \")\n",
        "print('-'*100)\n",
        "print('#'*25 + ' Imprimido a tabuada do número '+ primeiro_num +' ' + '#'*25)\n",
        "a = 1 * int(primeiro_num)\n",
        "b = 2 * int(primeiro_num)\n",
        "c = 3 * int(primeiro_num)\n",
        "d = 4 * int(primeiro_num)\n",
        "e = 5 * int(primeiro_num)\n",
        "f = 6 * int(primeiro_num)\n",
        "g = 7 * int(primeiro_num)\n",
        "h = 8 * int(primeiro_num)\n",
        "i = 9 * int(primeiro_num)\n",
        "j = 10 * int(primeiro_num)\n",
        "\n",
        "print('1 x ', primeiro_num, '= ', a)\n",
        "print('2 x ', primeiro_num, '= ', b)\n",
        "print('3 x ', primeiro_num, '= ', c)\n",
        "print('4 x ', primeiro_num, '= ', d)\n",
        "print('5 x ', primeiro_num, '= ', e)\n",
        "print('6 x ', primeiro_num, '= ', f)\n",
        "print('7 x ', primeiro_num, '= ', g)\n",
        "print('8 x ', primeiro_num, '= ', h)\n",
        "print('9 x ', primeiro_num, '= ', i)\n",
        "print('10 x ', primeiro_num, '=',j)\n",
        "print('-'*100)\n",
        "\n",
        "\n",
        "\n",
        "\n",
        "\n",
        "\n",
        "\n",
        "\n",
        "\n",
        "\n",
        "\n",
        "\n"
      ]
    }
  ]
}