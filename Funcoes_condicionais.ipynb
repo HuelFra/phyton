{
  "nbformat": 4,
  "nbformat_minor": 0,
  "metadata": {
    "colab": {
      "provenance": [],
      "authorship_tag": "ABX9TyO2lzo3Uv/Ty9H+E2DvjOrj",
      "include_colab_link": true
    },
    "kernelspec": {
      "name": "python3",
      "display_name": "Python 3"
    },
    "language_info": {
      "name": "python"
    }
  },
  "cells": [
    {
      "cell_type": "markdown",
      "metadata": {
        "id": "view-in-github",
        "colab_type": "text"
      },
      "source": [
        "<a href=\"https://colab.research.google.com/github/HuelFra/phyton/blob/main/Funcoes_condicionais.ipynb\" target=\"_parent\"><img src=\"https://colab.research.google.com/assets/colab-badge.svg\" alt=\"Open In Colab\"/></a>"
      ]
    },
    {
      "cell_type": "code",
      "execution_count": 13,
      "metadata": {
        "colab": {
          "base_uri": "https://localhost:8080/",
          "height": 35
        },
        "id": "JfP5Q1wjH5eQ",
        "outputId": "a458b55b-60af-4bdf-df7b-6c4fe19c0c5e"
      },
      "outputs": [
        {
          "output_type": "execute_result",
          "data": {
            "text/plain": [
              "'O número é ímpar'"
            ],
            "application/vnd.google.colaboratory.intrinsic+json": {
              "type": "string"
            }
          },
          "metadata": {},
          "execution_count": 13
        }
      ],
      "source": [
        "#verifica se um número é par ou ímpar e retorna o resultado par ou ímpar\n",
        "def par_impar(numero):\n",
        "  if numero % 2 == 0 :\n",
        "    return 'o número é par'\n",
        "  else:\n",
        "    return 'O número é ímpar'\n",
        "par_impar(1)\n"
      ]
    },
    {
      "cell_type": "code",
      "source": [
        "# Função sem retorno\n",
        "def funcao_sem_retorno (x):\n",
        "  print(\"O Valor de x é: \", x)\n",
        "  return\n",
        "\n",
        "retorno_funcao = funcao_sem_retorno(6)\n",
        "print(retorno_funcao)"
      ],
      "metadata": {
        "colab": {
          "base_uri": "https://localhost:8080/"
        },
        "id": "yeeqcDtWJgz1",
        "outputId": "fab9d0ea-bd91-43f3-f944-6e264540a4e1"
      },
      "execution_count": 18,
      "outputs": [
        {
          "output_type": "stream",
          "name": "stdout",
          "text": [
            "O Valor de x é:  6\n",
            "None\n"
          ]
        }
      ]
    },
    {
      "cell_type": "code",
      "source": [
        "#Calculo da média do aluno\n",
        "def classificacao_aluno (Nota):\n",
        "  if Nota >=7:\n",
        "    return 'Aprovado'\n",
        "  elif Nota >=5:\n",
        "    return 'Recuperação'\n",
        "  else:\n",
        "    return 'Reprovado'\n",
        "classificacao_aluno(5)\n"
      ],
      "metadata": {
        "colab": {
          "base_uri": "https://localhost:8080/",
          "height": 35
        },
        "id": "mOW6Nq7-LoEo",
        "outputId": "c5f49436-f896-4d36-d53d-019d2f76d671"
      },
      "execution_count": 22,
      "outputs": [
        {
          "output_type": "execute_result",
          "data": {
            "text/plain": [
              "'Recuperação'"
            ],
            "application/vnd.google.colaboratory.intrinsic+json": {
              "type": "string"
            }
          },
          "metadata": {},
          "execution_count": 22
        }
      ]
    }
  ]
}