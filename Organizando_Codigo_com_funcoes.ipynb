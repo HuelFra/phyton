{
  "nbformat": 4,
  "nbformat_minor": 0,
  "metadata": {
    "colab": {
      "provenance": [],
      "authorship_tag": "ABX9TyPhvFU89iUhO96dk7mIp3wP",
      "include_colab_link": true
    },
    "kernelspec": {
      "name": "python3",
      "display_name": "Python 3"
    },
    "language_info": {
      "name": "python"
    }
  },
  "cells": [
    {
      "cell_type": "markdown",
      "metadata": {
        "id": "view-in-github",
        "colab_type": "text"
      },
      "source": [
        "<a href=\"https://colab.research.google.com/github/HuelFra/phyton/blob/main/Organizando_Codigo_com_funcoes.ipynb\" target=\"_parent\"><img src=\"https://colab.research.google.com/assets/colab-badge.svg\" alt=\"Open In Colab\"/></a>"
      ]
    },
    {
      "cell_type": "code",
      "execution_count": 3,
      "metadata": {
        "colab": {
          "base_uri": "https://localhost:8080/"
        },
        "id": "7sCtRYtaTnjo",
        "outputId": "b8184faa-b24e-4102-b8f3-a9fd17020cc9"
      },
      "outputs": [
        {
          "output_type": "stream",
          "name": "stdout",
          "text": [
            "\n",
            "** Menu de Opções **\n",
            "1. Adicionar Tarefa\n",
            "2. Listar Tarefas\n",
            "3. Remover Tarefa\n",
            "4. Sair\n",
            "Escolha uma opção: 1\n",
            "Digite o nome da tarefa: Cozinhar\n",
            "Digite a prioridade da tarefa (baixa, média, alta): Média\n",
            "Tarefa adicionada: {'nome': 'Cozinhar', 'prioridade': 'Média'}\n",
            "\n",
            "** Menu de Opções **\n",
            "1. Adicionar Tarefa\n",
            "2. Listar Tarefas\n",
            "3. Remover Tarefa\n",
            "4. Sair\n",
            "Escolha uma opção: 1\n",
            "Digite o nome da tarefa: Estudar Python\n",
            "Digite a prioridade da tarefa (baixa, média, alta): Alta\n",
            "Tarefa adicionada: {'nome': 'Estudar Python', 'prioridade': 'Alta'}\n",
            "\n",
            "** Menu de Opções **\n",
            "1. Adicionar Tarefa\n",
            "2. Listar Tarefas\n",
            "3. Remover Tarefa\n",
            "4. Sair\n",
            "Escolha uma opção: 2\n",
            "Lista de Tarefas:\n",
            "Nome: Cozinhar, Prioridade: Média\n",
            "Nome: Estudar Python, Prioridade: Alta\n",
            "\n",
            "** Menu de Opções **\n",
            "1. Adicionar Tarefa\n",
            "2. Listar Tarefas\n",
            "3. Remover Tarefa\n",
            "4. Sair\n",
            "Escolha uma opção: 3\n",
            "Digite o nome da tarefa a ser removida: Cozinhar\n",
            "Tarefa 'Cozinhar' removida com sucesso.\n",
            "\n",
            "** Menu de Opções **\n",
            "1. Adicionar Tarefa\n",
            "2. Listar Tarefas\n",
            "3. Remover Tarefa\n",
            "4. Sair\n",
            "Escolha uma opção: 2\n",
            "Lista de Tarefas:\n",
            "Nome: Estudar Python, Prioridade: Alta\n",
            "\n",
            "** Menu de Opções **\n",
            "1. Adicionar Tarefa\n",
            "2. Listar Tarefas\n",
            "3. Remover Tarefa\n",
            "4. Sair\n",
            "Escolha uma opção: 4\n",
            "Encerrando o programa.\n"
          ]
        }
      ],
      "source": [
        "tarefas = []\n",
        "\n",
        "def adicionar_tarefa(nome, prioridade):\n",
        "    tarefa = {\n",
        "        'nome': nome,\n",
        "        'prioridade': prioridade\n",
        "    }\n",
        "    tarefas.append(tarefa)\n",
        "    print(\"Tarefa adicionada:\", tarefa)\n",
        "\n",
        "def listar_tarefas():\n",
        "    if not tarefas:\n",
        "        print(\"Nenhuma tarefa cadastrada.\")\n",
        "    else:\n",
        "        print(\"Lista de Tarefas:\")\n",
        "        for tarefa in tarefas:\n",
        "            print(f\"Nome: {tarefa['nome']}, Prioridade: {tarefa['prioridade']}\")\n",
        "\n",
        "def remover_tarefa(nome):\n",
        "    for tarefa in tarefas:\n",
        "        if tarefa['nome'] == nome:\n",
        "            tarefas.remove(tarefa)\n",
        "            print(f\"Tarefa '{nome}' removida com sucesso.\")\n",
        "            break\n",
        "    else:\n",
        "        print(f\"Tarefa '{nome}' não encontrada.\")\n",
        "\n",
        "# Loop principal\n",
        "while True:\n",
        "    print(\"\\n** Menu de Opções **\")\n",
        "    print(\"1. Adicionar Tarefa\")\n",
        "    print(\"2. Listar Tarefas\")\n",
        "    print(\"3. Remover Tarefa\")\n",
        "    print(\"4. Sair\")\n",
        "\n",
        "    opcao = input(\"Escolha uma opção: \")\n",
        "\n",
        "    if opcao == '1':\n",
        "        nome = input(\"Digite o nome da tarefa: \")\n",
        "        prioridade = input(\"Digite a prioridade da tarefa (baixa, média, alta): \")\n",
        "        adicionar_tarefa(nome, prioridade)\n",
        "    elif opcao == '2':\n",
        "        listar_tarefas()\n",
        "    elif opcao == '3':\n",
        "        nome = input(\"Digite o nome da tarefa a ser removida: \")\n",
        "        remover_tarefa(nome)\n",
        "    elif opcao == '4':\n",
        "        print(\"Encerrando o programa.\")\n",
        "        break\n",
        "    else:\n",
        "        print(\"Opção inválida. Tente novamente.\")\n"
      ]
    }
  ]
}