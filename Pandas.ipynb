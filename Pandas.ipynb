{
  "nbformat": 4,
  "nbformat_minor": 0,
  "metadata": {
    "colab": {
      "provenance": [],
      "authorship_tag": "ABX9TyOLptXiYzBtO1ZzZZD2xRHr",
      "include_colab_link": true
    },
    "kernelspec": {
      "name": "python3",
      "display_name": "Python 3"
    },
    "language_info": {
      "name": "python"
    }
  },
  "cells": [
    {
      "cell_type": "markdown",
      "metadata": {
        "id": "view-in-github",
        "colab_type": "text"
      },
      "source": [
        "<a href=\"https://colab.research.google.com/github/HuelFra/phyton/blob/main/Pandas.ipynb\" target=\"_parent\"><img src=\"https://colab.research.google.com/assets/colab-badge.svg\" alt=\"Open In Colab\"/></a>"
      ]
    },
    {
      "cell_type": "code",
      "source": [
        "#Pandas\n",
        "'''A biblioteca Pandas é uma das bibliotecas mais populares e poderosas da linguagem Python,\n",
        "usada principalmente para análise e manipulação de dados. O nome “Pandas” vem de \"Panel Data\",\n",
        "um termo usado em econometria.\n",
        "\n",
        "📌 Para que serve o Pandas?\n",
        "Pandas fornece estruturas de dados de alto desempenho e fáceis de usar, especialmente para\n",
        "trabalhar com dados tabulares (como planilhas e bancos de dados) e temporais (como séries de tempo).\n",
        "\n",
        "Principais estruturas de dados do Pandas\n",
        "- Series:\n",
        "Uma coluna única (unidimensional) com rótulos (índices).\n",
        "Exemplo:\n",
        "import pandas as pd\n",
        "s = pd.Series([10, 20, 30], index=['a', 'b', 'c'])\n",
        "\n",
        "- DataFrame:\n",
        "Uma tabela de dados em formato de matriz (bidimensional), parecida com uma planilha do Excel ou uma tabela SQL.\n",
        "Exemplo:\n",
        "import pandas as pd\n",
        "data = {'Nome': ['Ana', 'João'], 'Idade': [25, 30]}\n",
        "df = pd.DataFrame(data)\n",
        "\n",
        "🛠️ Funcionalidades principais\n",
        "- Leitura e gravação de arquivos: .csv, .excel, .json, .sql, entre outros.\n",
        "- Filtragem, ordenação e agrupamento de dados.\n",
        "- Limpeza e transformação de dados (remoção de valores nulos, substituições, conversões).\n",
        "- Análise estatística básica.\n",
        "- Criação de novas colunas com base em condições ou cálculos.\n",
        "- Integração com outras bibliotecas como NumPy, Matplotlib, Seaborn e Scikit-learn.\n",
        "\n",
        "✅ Por que usar Pandas?\n",
        "Facilita o tratamento de dados complexos.\n",
        "Muito utilizado em ciência de dados, machine learning, estatística, finanças e engenharia de dados.\n",
        "Interface intuitiva para quem está acostumado com Excel ou SQL.'''\n",
        "\n",
        "#Como instalar o Pandas\n",
        "!pip install pandas\n",
        "\n",
        "#Importando a Biblioteca\n",
        "import pandas as pd"
      ],
      "metadata": {
        "colab": {
          "base_uri": "https://localhost:8080/"
        },
        "id": "XJnQaI9VHgcU",
        "outputId": "fff1aa5d-a618-4d3b-8e97-cd06b5f310d4"
      },
      "execution_count": 6,
      "outputs": [
        {
          "output_type": "stream",
          "name": "stdout",
          "text": [
            "Requirement already satisfied: pandas in /usr/local/lib/python3.11/dist-packages (2.2.2)\n",
            "Requirement already satisfied: numpy>=1.23.2 in /usr/local/lib/python3.11/dist-packages (from pandas) (2.0.2)\n",
            "Requirement already satisfied: python-dateutil>=2.8.2 in /usr/local/lib/python3.11/dist-packages (from pandas) (2.9.0.post0)\n",
            "Requirement already satisfied: pytz>=2020.1 in /usr/local/lib/python3.11/dist-packages (from pandas) (2025.2)\n",
            "Requirement already satisfied: tzdata>=2022.7 in /usr/local/lib/python3.11/dist-packages (from pandas) (2025.2)\n",
            "Requirement already satisfied: six>=1.5 in /usr/local/lib/python3.11/dist-packages (from python-dateutil>=2.8.2->pandas) (1.17.0)\n"
          ]
        }
      ]
    },
    {
      "cell_type": "code",
      "execution_count": 9,
      "metadata": {
        "colab": {
          "base_uri": "https://localhost:8080/"
        },
        "id": "SFZQKIRRD23M",
        "outputId": "3ad8fdd4-396f-4bc2-84bc-dc64cec55b1e"
      },
      "outputs": [
        {
          "output_type": "stream",
          "name": "stdout",
          "text": [
            "Requirement already satisfied: NumPy in /usr/local/lib/python3.11/dist-packages (2.0.2)\n",
            "A versão Numpy instalada é:  2.0.2\n",
            "A versão Panda instalada é:  2.2.2\n"
          ]
        }
      ],
      "source": [
        "#Criando Series\n",
        "'''\n",
        "🧩 O que é uma Series?\n",
        "Uma Series é uma estrutura de dados unidimensional (como uma coluna de uma planilha).\n",
        "É similar a um array do NumPy, mas com rótulos (index) para cada elemento.\n",
        "\n",
        "import pandas as pd\n",
        "# Criando uma Series\n",
        "dados = pd.Series([10, 20, 30, 40], index=['a', 'b', 'c', 'd'])\n",
        "print(dados)\n",
        "Saída:\n",
        "a    10\n",
        "b    20\n",
        "c    30\n",
        "d    40\n",
        "dtype: int64\n",
        "\n",
        "📊 O que é um DataFrame?\n",
        "Um DataFrame é uma tabela bidimensional, como uma planilha do Excel ou uma tabela SQL.\n",
        "Ele é composto por várias Series, uma para cada coluna.\n",
        "import pandas as pd\n",
        "\n",
        "# Criando um DataFrame\n",
        "dados = {\n",
        "    'Nome': ['Ana', 'Bruno', 'Carlos'],\n",
        "    'Idade': [23, 35, 30],\n",
        "    'Cidade': ['SP', 'RJ', 'BH']\n",
        "}\n",
        "\n",
        "df = pd.DataFrame(dados)\n",
        "print(df)\n",
        "Saída:\n",
        "    Nome  Idade Cidade\n",
        "0    Ana     23     SP\n",
        "1  Bruno     35     RJ\n",
        "2 Carlos     30     BH '''\n",
        "\n",
        "#Conhecendo a versão do Numpy e do pandas instalado\n",
        "! pip install NumPy\n",
        "import numpy as np\n",
        "print('A versão Numpy instalada é: ' , np.__version__)\n",
        "print('A versão Panda instalada é: ' , pd.__version__)\n",
        "\n"
      ]
    },
    {
      "cell_type": "code",
      "source": [
        "# Criando lista\n",
        "lista = [10,20,30,40,50]\n",
        "print(lista)\n"
      ],
      "metadata": {
        "colab": {
          "base_uri": "https://localhost:8080/"
        },
        "id": "p1MbBfRVIEQA",
        "outputId": "ccee7fea-78d1-47cd-8c6d-91e58d0d9989"
      },
      "execution_count": 10,
      "outputs": [
        {
          "output_type": "stream",
          "name": "stdout",
          "text": [
            "[10, 20, 30, 40, 50]\n"
          ]
        }
      ]
    },
    {
      "cell_type": "code",
      "source": [
        "#Criando uma lista no Pandas, que seria uma Series\n",
        "series = pd.Series([10,20,30,40,50])\n",
        "print(series)"
      ],
      "metadata": {
        "colab": {
          "base_uri": "https://localhost:8080/"
        },
        "id": "FkY-Xu2JI853",
        "outputId": "f4bcfab8-078e-4f3e-cc43-d7ae245658bc"
      },
      "execution_count": 17,
      "outputs": [
        {
          "output_type": "stream",
          "name": "stdout",
          "text": [
            "0    10\n",
            "1    20\n",
            "2    30\n",
            "3    40\n",
            "4    50\n",
            "dtype: int64\n"
          ]
        }
      ]
    },
    {
      "cell_type": "code",
      "source": [
        "#Uma outra maneira que podemos chamar Series é:\n",
        "pd.Series(data = lista)\n",
        "\n",
        "'''\n",
        "pd: é a abreviação comum usada para importar a biblioteca pandas (ex: import pandas as pd).\n",
        "Series: é uma classe do pandas usada para criar uma série de dados.\n",
        "data=lista: é o argumento que define os dados que serão armazenados na série. Aqui, lista é uma lista Python ([10, 20, 30, 40, 50]).\n",
        "\n",
        "Os valores 10, 20, 30, 40 e 50 vêm da lista.\n",
        "Os índices (0, 1, 2) são atribuídos automaticamente.\n",
        "O dtype indica o tipo de dado (neste caso, int64).\n",
        "'''"
      ],
      "metadata": {
        "colab": {
          "base_uri": "https://localhost:8080/",
          "height": 241
        },
        "id": "tdYaoT_DJYlG",
        "outputId": "c2b5fd31-f72d-43dc-de4d-d3c3c1964002"
      },
      "execution_count": 18,
      "outputs": [
        {
          "output_type": "execute_result",
          "data": {
            "text/plain": [
              "0    10\n",
              "1    20\n",
              "2    30\n",
              "3    40\n",
              "4    50\n",
              "dtype: int64"
            ],
            "text/html": [
              "<div>\n",
              "<style scoped>\n",
              "    .dataframe tbody tr th:only-of-type {\n",
              "        vertical-align: middle;\n",
              "    }\n",
              "\n",
              "    .dataframe tbody tr th {\n",
              "        vertical-align: top;\n",
              "    }\n",
              "\n",
              "    .dataframe thead th {\n",
              "        text-align: right;\n",
              "    }\n",
              "</style>\n",
              "<table border=\"1\" class=\"dataframe\">\n",
              "  <thead>\n",
              "    <tr style=\"text-align: right;\">\n",
              "      <th></th>\n",
              "      <th>0</th>\n",
              "    </tr>\n",
              "  </thead>\n",
              "  <tbody>\n",
              "    <tr>\n",
              "      <th>0</th>\n",
              "      <td>10</td>\n",
              "    </tr>\n",
              "    <tr>\n",
              "      <th>1</th>\n",
              "      <td>20</td>\n",
              "    </tr>\n",
              "    <tr>\n",
              "      <th>2</th>\n",
              "      <td>30</td>\n",
              "    </tr>\n",
              "    <tr>\n",
              "      <th>3</th>\n",
              "      <td>40</td>\n",
              "    </tr>\n",
              "    <tr>\n",
              "      <th>4</th>\n",
              "      <td>50</td>\n",
              "    </tr>\n",
              "  </tbody>\n",
              "</table>\n",
              "</div><br><label><b>dtype:</b> int64</label>"
            ]
          },
          "metadata": {},
          "execution_count": 18
        }
      ]
    },
    {
      "cell_type": "code",
      "source": [
        "#Criando tupla\n",
        "tupla = (10,20,30,40,50)\n",
        "print(tupla)"
      ],
      "metadata": {
        "colab": {
          "base_uri": "https://localhost:8080/"
        },
        "id": "pjua4uEBIPLg",
        "outputId": "27cbd095-1220-4903-c51f-4bc72dbf572a"
      },
      "execution_count": 11,
      "outputs": [
        {
          "output_type": "stream",
          "name": "stdout",
          "text": [
            "(10, 20, 30, 40, 50)\n"
          ]
        }
      ]
    },
    {
      "cell_type": "code",
      "source": [
        "#Criando a tupla usando pandas\n",
        "pd.Series(data = tupla)"
      ],
      "metadata": {
        "colab": {
          "base_uri": "https://localhost:8080/",
          "height": 241
        },
        "id": "GlXPLqrnLBOr",
        "outputId": "24fd511a-c217-45a3-d064-3be606dc08a2"
      },
      "execution_count": 19,
      "outputs": [
        {
          "output_type": "execute_result",
          "data": {
            "text/plain": [
              "0    10\n",
              "1    20\n",
              "2    30\n",
              "3    40\n",
              "4    50\n",
              "dtype: int64"
            ],
            "text/html": [
              "<div>\n",
              "<style scoped>\n",
              "    .dataframe tbody tr th:only-of-type {\n",
              "        vertical-align: middle;\n",
              "    }\n",
              "\n",
              "    .dataframe tbody tr th {\n",
              "        vertical-align: top;\n",
              "    }\n",
              "\n",
              "    .dataframe thead th {\n",
              "        text-align: right;\n",
              "    }\n",
              "</style>\n",
              "<table border=\"1\" class=\"dataframe\">\n",
              "  <thead>\n",
              "    <tr style=\"text-align: right;\">\n",
              "      <th></th>\n",
              "      <th>0</th>\n",
              "    </tr>\n",
              "  </thead>\n",
              "  <tbody>\n",
              "    <tr>\n",
              "      <th>0</th>\n",
              "      <td>10</td>\n",
              "    </tr>\n",
              "    <tr>\n",
              "      <th>1</th>\n",
              "      <td>20</td>\n",
              "    </tr>\n",
              "    <tr>\n",
              "      <th>2</th>\n",
              "      <td>30</td>\n",
              "    </tr>\n",
              "    <tr>\n",
              "      <th>3</th>\n",
              "      <td>40</td>\n",
              "    </tr>\n",
              "    <tr>\n",
              "      <th>4</th>\n",
              "      <td>50</td>\n",
              "    </tr>\n",
              "  </tbody>\n",
              "</table>\n",
              "</div><br><label><b>dtype:</b> int64</label>"
            ]
          },
          "metadata": {},
          "execution_count": 19
        }
      ]
    },
    {
      "cell_type": "code",
      "source": [
        "#Criando um array\n",
        "array = np.array([10,20,30,40,50])\n",
        "print(array)"
      ],
      "metadata": {
        "colab": {
          "base_uri": "https://localhost:8080/"
        },
        "id": "nZUIBj7tIX3H",
        "outputId": "25e6e769-bd55-4dfd-cb90-6c32a9a102ff"
      },
      "execution_count": 12,
      "outputs": [
        {
          "output_type": "stream",
          "name": "stdout",
          "text": [
            "[10 20 30 40 50]\n"
          ]
        }
      ]
    },
    {
      "cell_type": "code",
      "source": [
        "#Criando um array usando panda\n",
        "pd.Series(data = array)"
      ],
      "metadata": {
        "colab": {
          "base_uri": "https://localhost:8080/",
          "height": 241
        },
        "id": "TLNaS3SDLHHY",
        "outputId": "477616f9-90c4-442e-acb9-faf2e35afd6d"
      },
      "execution_count": 22,
      "outputs": [
        {
          "output_type": "execute_result",
          "data": {
            "text/plain": [
              "0    10\n",
              "1    20\n",
              "2    30\n",
              "3    40\n",
              "4    50\n",
              "dtype: int64"
            ],
            "text/html": [
              "<div>\n",
              "<style scoped>\n",
              "    .dataframe tbody tr th:only-of-type {\n",
              "        vertical-align: middle;\n",
              "    }\n",
              "\n",
              "    .dataframe tbody tr th {\n",
              "        vertical-align: top;\n",
              "    }\n",
              "\n",
              "    .dataframe thead th {\n",
              "        text-align: right;\n",
              "    }\n",
              "</style>\n",
              "<table border=\"1\" class=\"dataframe\">\n",
              "  <thead>\n",
              "    <tr style=\"text-align: right;\">\n",
              "      <th></th>\n",
              "      <th>0</th>\n",
              "    </tr>\n",
              "  </thead>\n",
              "  <tbody>\n",
              "    <tr>\n",
              "      <th>0</th>\n",
              "      <td>10</td>\n",
              "    </tr>\n",
              "    <tr>\n",
              "      <th>1</th>\n",
              "      <td>20</td>\n",
              "    </tr>\n",
              "    <tr>\n",
              "      <th>2</th>\n",
              "      <td>30</td>\n",
              "    </tr>\n",
              "    <tr>\n",
              "      <th>3</th>\n",
              "      <td>40</td>\n",
              "    </tr>\n",
              "    <tr>\n",
              "      <th>4</th>\n",
              "      <td>50</td>\n",
              "    </tr>\n",
              "  </tbody>\n",
              "</table>\n",
              "</div><br><label><b>dtype:</b> int64</label>"
            ]
          },
          "metadata": {},
          "execution_count": 22
        }
      ]
    },
    {
      "cell_type": "code",
      "source": [
        "#ou\n",
        "array_pandas = pd.Series ([10,20,30,40,50])\n",
        "print(array_pandas)"
      ],
      "metadata": {
        "colab": {
          "base_uri": "https://localhost:8080/"
        },
        "id": "ksCe_X6yLdR_",
        "outputId": "2280c704-b204-4a9e-c24d-171bb0cffc5c"
      },
      "execution_count": 21,
      "outputs": [
        {
          "output_type": "stream",
          "name": "stdout",
          "text": [
            "0    10\n",
            "1    20\n",
            "2    30\n",
            "3    40\n",
            "4    50\n",
            "dtype: int64\n"
          ]
        }
      ]
    },
    {
      "cell_type": "code",
      "source": [
        "#Criando um dicionário\n",
        "dicionario = {'A':10, 'B':20, 'C':30, 'D':40, 'E':50}\n",
        "print(dicionario)"
      ],
      "metadata": {
        "colab": {
          "base_uri": "https://localhost:8080/"
        },
        "id": "vXDZNyooIjj4",
        "outputId": "ad1fe96d-3a53-47cc-9180-a72ba7283050"
      },
      "execution_count": 25,
      "outputs": [
        {
          "output_type": "stream",
          "name": "stdout",
          "text": [
            "{'A': 10, 'B': 20, 'C': 30, 'D': 40, 'E': 50}\n"
          ]
        }
      ]
    },
    {
      "cell_type": "code",
      "source": [
        "#Criando um dicionário pandas\n",
        "pd.Series(data = dicionario)"
      ],
      "metadata": {
        "colab": {
          "base_uri": "https://localhost:8080/",
          "height": 241
        },
        "id": "l-4hys89LhO_",
        "outputId": "e8ca99bd-4afc-44af-8cb1-b356ea6f1223"
      },
      "execution_count": 31,
      "outputs": [
        {
          "output_type": "execute_result",
          "data": {
            "text/plain": [
              "A    10\n",
              "B    20\n",
              "C    30\n",
              "D    40\n",
              "E    50\n",
              "dtype: int64"
            ],
            "text/html": [
              "<div>\n",
              "<style scoped>\n",
              "    .dataframe tbody tr th:only-of-type {\n",
              "        vertical-align: middle;\n",
              "    }\n",
              "\n",
              "    .dataframe tbody tr th {\n",
              "        vertical-align: top;\n",
              "    }\n",
              "\n",
              "    .dataframe thead th {\n",
              "        text-align: right;\n",
              "    }\n",
              "</style>\n",
              "<table border=\"1\" class=\"dataframe\">\n",
              "  <thead>\n",
              "    <tr style=\"text-align: right;\">\n",
              "      <th></th>\n",
              "      <th>0</th>\n",
              "    </tr>\n",
              "  </thead>\n",
              "  <tbody>\n",
              "    <tr>\n",
              "      <th>A</th>\n",
              "      <td>10</td>\n",
              "    </tr>\n",
              "    <tr>\n",
              "      <th>B</th>\n",
              "      <td>20</td>\n",
              "    </tr>\n",
              "    <tr>\n",
              "      <th>C</th>\n",
              "      <td>30</td>\n",
              "    </tr>\n",
              "    <tr>\n",
              "      <th>D</th>\n",
              "      <td>40</td>\n",
              "    </tr>\n",
              "    <tr>\n",
              "      <th>E</th>\n",
              "      <td>50</td>\n",
              "    </tr>\n",
              "  </tbody>\n",
              "</table>\n",
              "</div><br><label><b>dtype:</b> int64</label>"
            ]
          },
          "metadata": {},
          "execution_count": 31
        }
      ]
    },
    {
      "cell_type": "code",
      "source": [
        "#ou\n",
        "dicionario_pandas = pd.Series ({'A':10, 'B':20, 'C':30, 'D':40, 'E':50})\n",
        "print(dicionario_pandas)"
      ],
      "metadata": {
        "colab": {
          "base_uri": "https://localhost:8080/"
        },
        "id": "MtHRozniLpym",
        "outputId": "a489130b-f012-45fd-d682-97f3c9796f4a"
      },
      "execution_count": 32,
      "outputs": [
        {
          "output_type": "stream",
          "name": "stdout",
          "text": [
            "A    10\n",
            "B    20\n",
            "C    30\n",
            "D    40\n",
            "E    50\n",
            "dtype: int64\n"
          ]
        }
      ]
    },
    {
      "cell_type": "code",
      "source": [
        "#Indexando Series\n",
        "'''Esse comando cria uma pandas Series com valores personalizados para os índices.'''\n",
        "\n",
        "minha_Serie = pd.Series([10,20,30,40,50], index = ['A','B','C','D','E'])\n",
        "\n",
        "'''\n",
        "pd.Series(...): cria uma série do pandas.\n",
        "[10, 20, 30, 40, 50]: é a lista de dados.\n",
        "index=['A', 'B', 'C', 'D', 'E']: define rótulos personalizados para os índices da série.\n",
        "\n",
        "O resultado:\n",
        "A Série tem 5 elementos.\n",
        "Cada valor é associado a um índice personalizado (letras A a E).\n",
        "O dtype indica que os dados são do tipo inteiro (int64).\n",
        "\n",
        "Vantagens da indexação personalizada:\n",
        "Você pode acessar os valores usando os rótulos: minha_Serie['C']  # retorna 30\n",
        "Pode fazer operações com base nos rótulos (por exemplo, fatiamento, filtragem, etc.).\n",
        "Essa é uma das principais forças do pandas: você pode tratar dados de forma parecida\n",
        "com tabelas, mas com flexibilidade para indexação e manipulação.\n",
        "'''\n",
        "print(minha_Serie)"
      ],
      "metadata": {
        "colab": {
          "base_uri": "https://localhost:8080/"
        },
        "id": "xM0doDsIMex9",
        "outputId": "29873a42-1156-4f90-90f3-8ca90cd57861"
      },
      "execution_count": 34,
      "outputs": [
        {
          "output_type": "stream",
          "name": "stdout",
          "text": [
            "A    10\n",
            "B    20\n",
            "C    30\n",
            "D    40\n",
            "E    50\n",
            "dtype: int64\n"
          ]
        }
      ]
    },
    {
      "cell_type": "code",
      "source": [
        "#Outros exemplos de indexação\n",
        "nova_Serie = pd.Series([10,20,30,40,50], index = ['Primeiro','Segundo','Terceiro','Quarto','Quinto'])\n",
        "print(nova_Serie)"
      ],
      "metadata": {
        "colab": {
          "base_uri": "https://localhost:8080/"
        },
        "id": "bnyCL8YrN0Z4",
        "outputId": "b9c81d8e-49a6-4247-b147-6c8e6b637e5d"
      },
      "execution_count": 41,
      "outputs": [
        {
          "output_type": "stream",
          "name": "stdout",
          "text": [
            "Primeiro    10\n",
            "Segundo     20\n",
            "Terceiro    30\n",
            "Quarto      40\n",
            "Quinto      50\n",
            "dtype: int64\n"
          ]
        }
      ]
    },
    {
      "cell_type": "code",
      "source": [
        "#Mostrando o Primeiro Valor\n",
        "nova_Serie['Primeiro']"
      ],
      "metadata": {
        "colab": {
          "base_uri": "https://localhost:8080/"
        },
        "id": "DpaWvvbNOi__",
        "outputId": "9091cc47-01e9-4dd2-ec93-82b9a8667639"
      },
      "execution_count": 38,
      "outputs": [
        {
          "output_type": "execute_result",
          "data": {
            "text/plain": [
              "np.int64(10)"
            ]
          },
          "metadata": {},
          "execution_count": 38
        }
      ]
    },
    {
      "cell_type": "code",
      "source": [
        "#Mostrando o Segundo e Quarto Valores\n",
        "nova_Serie[['Segundo','Quarto']]"
      ],
      "metadata": {
        "colab": {
          "base_uri": "https://localhost:8080/",
          "height": 147
        },
        "id": "KHpdAW4hOzK1",
        "outputId": "6a8919fa-86b6-4b61-c655-24a458b5e6b8"
      },
      "execution_count": 43,
      "outputs": [
        {
          "output_type": "execute_result",
          "data": {
            "text/plain": [
              "Segundo    20\n",
              "Quarto     40\n",
              "dtype: int64"
            ],
            "text/html": [
              "<div>\n",
              "<style scoped>\n",
              "    .dataframe tbody tr th:only-of-type {\n",
              "        vertical-align: middle;\n",
              "    }\n",
              "\n",
              "    .dataframe tbody tr th {\n",
              "        vertical-align: top;\n",
              "    }\n",
              "\n",
              "    .dataframe thead th {\n",
              "        text-align: right;\n",
              "    }\n",
              "</style>\n",
              "<table border=\"1\" class=\"dataframe\">\n",
              "  <thead>\n",
              "    <tr style=\"text-align: right;\">\n",
              "      <th></th>\n",
              "      <th>0</th>\n",
              "    </tr>\n",
              "  </thead>\n",
              "  <tbody>\n",
              "    <tr>\n",
              "      <th>Segundo</th>\n",
              "      <td>20</td>\n",
              "    </tr>\n",
              "    <tr>\n",
              "      <th>Quarto</th>\n",
              "      <td>40</td>\n",
              "    </tr>\n",
              "  </tbody>\n",
              "</table>\n",
              "</div><br><label><b>dtype:</b> int64</label>"
            ]
          },
          "metadata": {},
          "execution_count": 43
        }
      ]
    },
    {
      "cell_type": "code",
      "source": [
        "#Criando uma Series pandas com texto\n",
        "# Você precisa chamar a classe Series como uma função, usando parênteses ()\n",
        "# Passe a lista de strings como o argumento 'data'.\n",
        "texto = pd.Series(data = ['Ana', 'Bruno', 'Carlos'])\n",
        "\n",
        "'''O pandas internamente utiliza tipos como:\n",
        "int64 para inteiros\n",
        "float64 para números decimais\n",
        "datetime64 para datas\n",
        "bool para booleanos\n",
        "object para qualquer outro tipo, especialmente strings ou misturas de tipos.'''\n",
        "\n",
        "print(texto)"
      ],
      "metadata": {
        "colab": {
          "base_uri": "https://localhost:8080/"
        },
        "id": "jLtiFTn5Piv0",
        "outputId": "d5ffbbf9-b875-4cf0-9f3b-8f67f4b22080"
      },
      "execution_count": 58,
      "outputs": [
        {
          "output_type": "stream",
          "name": "stdout",
          "text": [
            "0       Ana\n",
            "1     Bruno\n",
            "2    Carlos\n",
            "dtype: object\n"
          ]
        }
      ]
    },
    {
      "cell_type": "code",
      "source": [
        "#Outra forma\n",
        "pd.Series(['Ana', 'Bruno', 'Carlos'])\n",
        "\n",
        "'''O resultado de dtype é object, por qual motivo?\n",
        "No pandas, o tipo object é usado para dados não numéricos, especialmente strings (textos).\n",
        "\n",
        "A partir de versões mais recentes do pandas, também existe o tipo string\n",
        "(mais moderno e eficiente que object para textos), mas ele precisa ser especificado:\n",
        "pd.Series(['Ana', 'Bruno', 'Carlos'], dtype='string')'''\n",
        "pd.Series(['Ana', 'Bruno', 'Carlos'], dtype='string')"
      ],
      "metadata": {
        "colab": {
          "base_uri": "https://localhost:8080/",
          "height": 178
        },
        "id": "5EpPFW_qQUfq",
        "outputId": "8efb7ce1-9b84-4b2e-d80b-87bf7d338b88"
      },
      "execution_count": 57,
      "outputs": [
        {
          "output_type": "execute_result",
          "data": {
            "text/plain": [
              "0       Ana\n",
              "1     Bruno\n",
              "2    Carlos\n",
              "dtype: string"
            ],
            "text/html": [
              "<div>\n",
              "<style scoped>\n",
              "    .dataframe tbody tr th:only-of-type {\n",
              "        vertical-align: middle;\n",
              "    }\n",
              "\n",
              "    .dataframe tbody tr th {\n",
              "        vertical-align: top;\n",
              "    }\n",
              "\n",
              "    .dataframe thead th {\n",
              "        text-align: right;\n",
              "    }\n",
              "</style>\n",
              "<table border=\"1\" class=\"dataframe\">\n",
              "  <thead>\n",
              "    <tr style=\"text-align: right;\">\n",
              "      <th></th>\n",
              "      <th>0</th>\n",
              "    </tr>\n",
              "  </thead>\n",
              "  <tbody>\n",
              "    <tr>\n",
              "      <th>0</th>\n",
              "      <td>Ana</td>\n",
              "    </tr>\n",
              "    <tr>\n",
              "      <th>1</th>\n",
              "      <td>Bruno</td>\n",
              "    </tr>\n",
              "    <tr>\n",
              "      <th>2</th>\n",
              "      <td>Carlos</td>\n",
              "    </tr>\n",
              "  </tbody>\n",
              "</table>\n",
              "</div><br><label><b>dtype:</b> string</label>"
            ]
          },
          "metadata": {},
          "execution_count": 57
        }
      ]
    },
    {
      "cell_type": "code",
      "source": [
        "#Criando um Series pandas float\n",
        "pd.Series([2.78, 3.95])"
      ],
      "metadata": {
        "colab": {
          "base_uri": "https://localhost:8080/",
          "height": 147
        },
        "id": "7iJ2qQUUSaFk",
        "outputId": "1b1a1cce-9cf6-4ce4-9b06-150ff7e1fe0c"
      },
      "execution_count": 53,
      "outputs": [
        {
          "output_type": "execute_result",
          "data": {
            "text/plain": [
              "0    2.78\n",
              "1    3.95\n",
              "dtype: float64"
            ],
            "text/html": [
              "<div>\n",
              "<style scoped>\n",
              "    .dataframe tbody tr th:only-of-type {\n",
              "        vertical-align: middle;\n",
              "    }\n",
              "\n",
              "    .dataframe tbody tr th {\n",
              "        vertical-align: top;\n",
              "    }\n",
              "\n",
              "    .dataframe thead th {\n",
              "        text-align: right;\n",
              "    }\n",
              "</style>\n",
              "<table border=\"1\" class=\"dataframe\">\n",
              "  <thead>\n",
              "    <tr style=\"text-align: right;\">\n",
              "      <th></th>\n",
              "      <th>0</th>\n",
              "    </tr>\n",
              "  </thead>\n",
              "  <tbody>\n",
              "    <tr>\n",
              "      <th>0</th>\n",
              "      <td>2.78</td>\n",
              "    </tr>\n",
              "    <tr>\n",
              "      <th>1</th>\n",
              "      <td>3.95</td>\n",
              "    </tr>\n",
              "  </tbody>\n",
              "</table>\n",
              "</div><br><label><b>dtype:</b> float64</label>"
            ]
          },
          "metadata": {},
          "execution_count": 53
        }
      ]
    },
    {
      "cell_type": "code",
      "source": [
        "#Criando uma Series pandas com tipos diferentes\n",
        "'''Converte tudo para string, caso tenha algum tipo diferente'''\n",
        "pd.Series(['Maria',4.64, True])\n",
        "\n",
        "pd.Series(['Maria',4.64, True])"
      ],
      "metadata": {
        "colab": {
          "base_uri": "https://localhost:8080/",
          "height": 178
        },
        "id": "sKhZkfG9S0Gs",
        "outputId": "545cecc1-59a4-423a-831d-161c1c0e7713"
      },
      "execution_count": 56,
      "outputs": [
        {
          "output_type": "execute_result",
          "data": {
            "text/plain": [
              "0    Maria\n",
              "1     4.64\n",
              "2     True\n",
              "dtype: object"
            ],
            "text/html": [
              "<div>\n",
              "<style scoped>\n",
              "    .dataframe tbody tr th:only-of-type {\n",
              "        vertical-align: middle;\n",
              "    }\n",
              "\n",
              "    .dataframe tbody tr th {\n",
              "        vertical-align: top;\n",
              "    }\n",
              "\n",
              "    .dataframe thead th {\n",
              "        text-align: right;\n",
              "    }\n",
              "</style>\n",
              "<table border=\"1\" class=\"dataframe\">\n",
              "  <thead>\n",
              "    <tr style=\"text-align: right;\">\n",
              "      <th></th>\n",
              "      <th>0</th>\n",
              "    </tr>\n",
              "  </thead>\n",
              "  <tbody>\n",
              "    <tr>\n",
              "      <th>0</th>\n",
              "      <td>Maria</td>\n",
              "    </tr>\n",
              "    <tr>\n",
              "      <th>1</th>\n",
              "      <td>4.64</td>\n",
              "    </tr>\n",
              "    <tr>\n",
              "      <th>2</th>\n",
              "      <td>True</td>\n",
              "    </tr>\n",
              "  </tbody>\n",
              "</table>\n",
              "</div><br><label><b>dtype:</b> object</label>"
            ]
          },
          "metadata": {},
          "execution_count": 56
        }
      ]
    },
    {
      "cell_type": "code",
      "source": [
        "# Conhecendo mais algumas funções do pandas Python\n",
        "'''\n",
        "A função sum() no contexto do pandas (ou até mesmo em Python puro) é usada para somar valores.\n",
        "Exemplo: sum([1, 2, 3, 4])\n",
        "\n",
        "Em uma pandas.Series:\n",
        "import pandas as pd\n",
        "\n",
        "s = pd.Series([10, 20, 30])\n",
        "s.sum()\n",
        "\n",
        "sum() ignora automaticamente valores NaN (nulos).\n",
        "\n",
        "Se a Series for de strings, ele concatena:\n",
        "s = pd.Series(['Ana', 'Bruno', 'Carlos'])\n",
        "s.sum()\n",
        "\n",
        "Resumo:\n",
        "Numérico\tSoma dos valores\n",
        "String (object)\tConcatenação das strings\n",
        "Com NaN\tIgnora NaN por padrão\n",
        "\n",
        "Se quiser que NaN afete o resultado (retorne NaN), use:\n",
        "s.sum(skipna=False)\n"
      ],
      "metadata": {
        "id": "1sre6LAiTfTx"
      },
      "execution_count": null,
      "outputs": []
    },
    {
      "cell_type": "code",
      "source": [
        "s = pd.Series([10, 20, 30])\n",
        "s.sum()"
      ],
      "metadata": {
        "colab": {
          "base_uri": "https://localhost:8080/"
        },
        "id": "OFL1d6viUfYQ",
        "outputId": "21db4324-0c1b-43a0-daef-4c30743e9fa9"
      },
      "execution_count": 60,
      "outputs": [
        {
          "output_type": "execute_result",
          "data": {
            "text/plain": [
              "np.int64(60)"
            ]
          },
          "metadata": {},
          "execution_count": 60
        }
      ]
    },
    {
      "cell_type": "code",
      "source": [
        "s = pd.Series(['Ana', 'Bruno', 'Carlos'])\n",
        "s.sum()"
      ],
      "metadata": {
        "colab": {
          "base_uri": "https://localhost:8080/",
          "height": 35
        },
        "id": "V7WlMvmrUwsF",
        "outputId": "78cc1780-8b68-4bf7-a916-54ceeb6b3e9d"
      },
      "execution_count": 61,
      "outputs": [
        {
          "output_type": "execute_result",
          "data": {
            "text/plain": [
              "'AnaBrunoCarlos'"
            ],
            "application/vnd.google.colaboratory.intrinsic+json": {
              "type": "string"
            }
          },
          "metadata": {},
          "execution_count": 61
        }
      ]
    }
  ]
}